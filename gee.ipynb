{
 "cells": [
  {
   "cell_type": "code",
   "execution_count": 1,
   "id": "e4dd3560-c308-4c3c-99b4-933bed0584d2",
   "metadata": {},
   "outputs": [
    {
     "name": "stdout",
     "output_type": "stream",
     "text": [
      "Requirement already satisfied: geemap in c:\\users\\mcphersonf\\appdata\\local\\anaconda3\\envs\\gee\\lib\\site-packages (0.35.1)\n",
      "Requirement already satisfied: bqplot in c:\\users\\mcphersonf\\appdata\\local\\anaconda3\\envs\\gee\\lib\\site-packages (from geemap) (0.12.44)\n",
      "Requirement already satisfied: colour in c:\\users\\mcphersonf\\appdata\\local\\anaconda3\\envs\\gee\\lib\\site-packages (from geemap) (0.1.5)\n",
      "Requirement already satisfied: earthengine-api>=1.0.0 in c:\\users\\mcphersonf\\appdata\\local\\anaconda3\\envs\\gee\\lib\\site-packages (from geemap) (1.5.0)\n",
      "Requirement already satisfied: eerepr>=0.0.4 in c:\\users\\mcphersonf\\appdata\\local\\anaconda3\\envs\\gee\\lib\\site-packages (from geemap) (0.1.0)\n",
      "Requirement already satisfied: folium>=0.17.0 in c:\\users\\mcphersonf\\appdata\\local\\anaconda3\\envs\\gee\\lib\\site-packages (from geemap) (0.19.4)\n",
      "Requirement already satisfied: geocoder in c:\\users\\mcphersonf\\appdata\\local\\anaconda3\\envs\\gee\\lib\\site-packages (from geemap) (1.38.1)\n",
      "Requirement already satisfied: ipyevents in c:\\users\\mcphersonf\\appdata\\local\\anaconda3\\envs\\gee\\lib\\site-packages (from geemap) (2.0.2)\n",
      "Requirement already satisfied: ipyfilechooser>=0.6.0 in c:\\users\\mcphersonf\\appdata\\local\\anaconda3\\envs\\gee\\lib\\site-packages (from geemap) (0.6.0)\n",
      "Requirement already satisfied: ipyleaflet>=0.19.2 in c:\\users\\mcphersonf\\appdata\\local\\anaconda3\\envs\\gee\\lib\\site-packages (from geemap) (0.19.2)\n",
      "Requirement already satisfied: ipytree in c:\\users\\mcphersonf\\appdata\\local\\anaconda3\\envs\\gee\\lib\\site-packages (from geemap) (0.2.2)\n",
      "Requirement already satisfied: matplotlib in c:\\users\\mcphersonf\\appdata\\local\\anaconda3\\envs\\gee\\lib\\site-packages (from geemap) (3.10.0)\n",
      "Requirement already satisfied: numpy in c:\\users\\mcphersonf\\appdata\\local\\anaconda3\\envs\\gee\\lib\\site-packages (from geemap) (2.2.2)\n",
      "Requirement already satisfied: pandas in c:\\users\\mcphersonf\\appdata\\local\\anaconda3\\envs\\gee\\lib\\site-packages (from geemap) (2.2.3)\n",
      "Requirement already satisfied: plotly in c:\\users\\mcphersonf\\appdata\\local\\anaconda3\\envs\\gee\\lib\\site-packages (from geemap) (6.0.0)\n",
      "Requirement already satisfied: pyperclip in c:\\users\\mcphersonf\\appdata\\local\\anaconda3\\envs\\gee\\lib\\site-packages (from geemap) (1.9.0)\n",
      "Requirement already satisfied: pyshp>=2.3.1 in c:\\users\\mcphersonf\\appdata\\local\\anaconda3\\envs\\gee\\lib\\site-packages (from geemap) (2.3.1)\n",
      "Requirement already satisfied: python-box in c:\\users\\mcphersonf\\appdata\\local\\anaconda3\\envs\\gee\\lib\\site-packages (from geemap) (7.3.2)\n",
      "Requirement already satisfied: scooby in c:\\users\\mcphersonf\\appdata\\local\\anaconda3\\envs\\gee\\lib\\site-packages (from geemap) (0.10.0)\n",
      "Requirement already satisfied: google-cloud-storage in c:\\users\\mcphersonf\\appdata\\local\\anaconda3\\envs\\gee\\lib\\site-packages (from earthengine-api>=1.0.0->geemap) (3.0.0)\n",
      "Requirement already satisfied: google-api-python-client>=1.12.1 in c:\\users\\mcphersonf\\appdata\\local\\anaconda3\\envs\\gee\\lib\\site-packages (from earthengine-api>=1.0.0->geemap) (2.160.0)\n",
      "Requirement already satisfied: google-auth>=1.4.1 in c:\\users\\mcphersonf\\appdata\\local\\anaconda3\\envs\\gee\\lib\\site-packages (from earthengine-api>=1.0.0->geemap) (2.38.0)\n",
      "Requirement already satisfied: google-auth-httplib2>=0.0.3 in c:\\users\\mcphersonf\\appdata\\local\\anaconda3\\envs\\gee\\lib\\site-packages (from earthengine-api>=1.0.0->geemap) (0.2.0)\n",
      "Requirement already satisfied: httplib2<1dev,>=0.9.2 in c:\\users\\mcphersonf\\appdata\\local\\anaconda3\\envs\\gee\\lib\\site-packages (from earthengine-api>=1.0.0->geemap) (0.22.0)\n",
      "Requirement already satisfied: requests in c:\\users\\mcphersonf\\appdata\\local\\anaconda3\\envs\\gee\\lib\\site-packages (from earthengine-api>=1.0.0->geemap) (2.32.3)\n",
      "Requirement already satisfied: branca>=0.6.0 in c:\\users\\mcphersonf\\appdata\\local\\anaconda3\\envs\\gee\\lib\\site-packages (from folium>=0.17.0->geemap) (0.8.1)\n",
      "Requirement already satisfied: jinja2>=2.9 in c:\\users\\mcphersonf\\appdata\\local\\anaconda3\\envs\\gee\\lib\\site-packages (from folium>=0.17.0->geemap) (3.1.5)\n",
      "Requirement already satisfied: xyzservices in c:\\users\\mcphersonf\\appdata\\local\\anaconda3\\envs\\gee\\lib\\site-packages (from folium>=0.17.0->geemap) (2025.1.0)\n",
      "Requirement already satisfied: ipywidgets in c:\\users\\mcphersonf\\appdata\\local\\anaconda3\\envs\\gee\\lib\\site-packages (from ipyfilechooser>=0.6.0->geemap) (8.1.5)\n",
      "Requirement already satisfied: jupyter-leaflet<0.20,>=0.19 in c:\\users\\mcphersonf\\appdata\\local\\anaconda3\\envs\\gee\\lib\\site-packages (from ipyleaflet>=0.19.2->geemap) (0.19.2)\n",
      "Requirement already satisfied: traittypes<3,>=0.2.1 in c:\\users\\mcphersonf\\appdata\\local\\anaconda3\\envs\\gee\\lib\\site-packages (from ipyleaflet>=0.19.2->geemap) (0.2.1)\n",
      "Requirement already satisfied: traitlets>=4.3.0 in c:\\users\\mcphersonf\\appdata\\local\\anaconda3\\envs\\gee\\lib\\site-packages (from bqplot->geemap) (5.14.3)\n",
      "Requirement already satisfied: python-dateutil>=2.8.2 in c:\\users\\mcphersonf\\appdata\\local\\anaconda3\\envs\\gee\\lib\\site-packages (from pandas->geemap) (2.9.0.post0)\n",
      "Requirement already satisfied: pytz>=2020.1 in c:\\users\\mcphersonf\\appdata\\local\\anaconda3\\envs\\gee\\lib\\site-packages (from pandas->geemap) (2025.1)\n",
      "Requirement already satisfied: tzdata>=2022.7 in c:\\users\\mcphersonf\\appdata\\local\\anaconda3\\envs\\gee\\lib\\site-packages (from pandas->geemap) (2025.1)\n",
      "Requirement already satisfied: click in c:\\users\\mcphersonf\\appdata\\local\\anaconda3\\envs\\gee\\lib\\site-packages (from geocoder->geemap) (8.1.8)\n",
      "Requirement already satisfied: future in c:\\users\\mcphersonf\\appdata\\local\\anaconda3\\envs\\gee\\lib\\site-packages (from geocoder->geemap) (1.0.0)\n",
      "Requirement already satisfied: ratelim in c:\\users\\mcphersonf\\appdata\\local\\anaconda3\\envs\\gee\\lib\\site-packages (from geocoder->geemap) (0.1.6)\n",
      "Requirement already satisfied: six in c:\\users\\mcphersonf\\appdata\\local\\anaconda3\\envs\\gee\\lib\\site-packages (from geocoder->geemap) (1.16.0)\n",
      "Requirement already satisfied: contourpy>=1.0.1 in c:\\users\\mcphersonf\\appdata\\local\\anaconda3\\envs\\gee\\lib\\site-packages (from matplotlib->geemap) (1.3.1)\n",
      "Requirement already satisfied: cycler>=0.10 in c:\\users\\mcphersonf\\appdata\\local\\anaconda3\\envs\\gee\\lib\\site-packages (from matplotlib->geemap) (0.12.1)\n",
      "Requirement already satisfied: fonttools>=4.22.0 in c:\\users\\mcphersonf\\appdata\\local\\anaconda3\\envs\\gee\\lib\\site-packages (from matplotlib->geemap) (4.55.8)\n",
      "Requirement already satisfied: kiwisolver>=1.3.1 in c:\\users\\mcphersonf\\appdata\\local\\anaconda3\\envs\\gee\\lib\\site-packages (from matplotlib->geemap) (1.4.8)\n",
      "Requirement already satisfied: packaging>=20.0 in c:\\users\\mcphersonf\\appdata\\local\\anaconda3\\envs\\gee\\lib\\site-packages (from matplotlib->geemap) (24.2)\n",
      "Requirement already satisfied: pillow>=8 in c:\\users\\mcphersonf\\appdata\\local\\anaconda3\\envs\\gee\\lib\\site-packages (from matplotlib->geemap) (11.1.0)\n",
      "Requirement already satisfied: pyparsing>=2.3.1 in c:\\users\\mcphersonf\\appdata\\local\\anaconda3\\envs\\gee\\lib\\site-packages (from matplotlib->geemap) (3.2.1)\n",
      "Requirement already satisfied: narwhals>=1.15.1 in c:\\users\\mcphersonf\\appdata\\local\\anaconda3\\envs\\gee\\lib\\site-packages (from plotly->geemap) (1.24.1)\n",
      "Requirement already satisfied: google-api-core!=2.0.*,!=2.1.*,!=2.2.*,!=2.3.0,<3.0.0.dev0,>=1.31.5 in c:\\users\\mcphersonf\\appdata\\local\\anaconda3\\envs\\gee\\lib\\site-packages (from google-api-python-client>=1.12.1->earthengine-api>=1.0.0->geemap) (2.24.1)\n",
      "Requirement already satisfied: uritemplate<5,>=3.0.1 in c:\\users\\mcphersonf\\appdata\\local\\anaconda3\\envs\\gee\\lib\\site-packages (from google-api-python-client>=1.12.1->earthengine-api>=1.0.0->geemap) (4.1.1)\n",
      "Requirement already satisfied: cachetools<6.0,>=2.0.0 in c:\\users\\mcphersonf\\appdata\\local\\anaconda3\\envs\\gee\\lib\\site-packages (from google-auth>=1.4.1->earthengine-api>=1.0.0->geemap) (5.5.1)\n",
      "Requirement already satisfied: pyasn1-modules>=0.2.1 in c:\\users\\mcphersonf\\appdata\\local\\anaconda3\\envs\\gee\\lib\\site-packages (from google-auth>=1.4.1->earthengine-api>=1.0.0->geemap) (0.4.1)\n",
      "Requirement already satisfied: rsa<5,>=3.1.4 in c:\\users\\mcphersonf\\appdata\\local\\anaconda3\\envs\\gee\\lib\\site-packages (from google-auth>=1.4.1->earthengine-api>=1.0.0->geemap) (4.9)\n",
      "Requirement already satisfied: comm>=0.1.3 in c:\\users\\mcphersonf\\appdata\\local\\anaconda3\\envs\\gee\\lib\\site-packages (from ipywidgets->ipyfilechooser>=0.6.0->geemap) (0.2.1)\n",
      "Requirement already satisfied: ipython>=6.1.0 in c:\\users\\mcphersonf\\appdata\\local\\anaconda3\\envs\\gee\\lib\\site-packages (from ipywidgets->ipyfilechooser>=0.6.0->geemap) (8.30.0)\n",
      "Requirement already satisfied: widgetsnbextension~=4.0.12 in c:\\users\\mcphersonf\\appdata\\local\\anaconda3\\envs\\gee\\lib\\site-packages (from ipywidgets->ipyfilechooser>=0.6.0->geemap) (4.0.13)\n",
      "Requirement already satisfied: jupyterlab-widgets~=3.0.12 in c:\\users\\mcphersonf\\appdata\\local\\anaconda3\\envs\\gee\\lib\\site-packages (from ipywidgets->ipyfilechooser>=0.6.0->geemap) (3.0.13)\n",
      "Requirement already satisfied: MarkupSafe>=2.0 in c:\\users\\mcphersonf\\appdata\\local\\anaconda3\\envs\\gee\\lib\\site-packages (from jinja2>=2.9->folium>=0.17.0->geemap) (2.1.3)\n",
      "Requirement already satisfied: colorama in c:\\users\\mcphersonf\\appdata\\local\\anaconda3\\envs\\gee\\lib\\site-packages (from click->geocoder->geemap) (0.4.6)\n",
      "Requirement already satisfied: google-cloud-core<3.0dev,>=2.3.0 in c:\\users\\mcphersonf\\appdata\\local\\anaconda3\\envs\\gee\\lib\\site-packages (from google-cloud-storage->earthengine-api>=1.0.0->geemap) (2.4.1)\n",
      "Requirement already satisfied: google-resumable-media>=2.7.2 in c:\\users\\mcphersonf\\appdata\\local\\anaconda3\\envs\\gee\\lib\\site-packages (from google-cloud-storage->earthengine-api>=1.0.0->geemap) (2.7.2)\n",
      "Requirement already satisfied: google-crc32c<2.0dev,>=1.0 in c:\\users\\mcphersonf\\appdata\\local\\anaconda3\\envs\\gee\\lib\\site-packages (from google-cloud-storage->earthengine-api>=1.0.0->geemap) (1.6.0)\n",
      "Requirement already satisfied: charset-normalizer<4,>=2 in c:\\users\\mcphersonf\\appdata\\local\\anaconda3\\envs\\gee\\lib\\site-packages (from requests->earthengine-api>=1.0.0->geemap) (3.3.2)\n",
      "Requirement already satisfied: idna<4,>=2.5 in c:\\users\\mcphersonf\\appdata\\local\\anaconda3\\envs\\gee\\lib\\site-packages (from requests->earthengine-api>=1.0.0->geemap) (3.7)\n",
      "Requirement already satisfied: urllib3<3,>=1.21.1 in c:\\users\\mcphersonf\\appdata\\local\\anaconda3\\envs\\gee\\lib\\site-packages (from requests->earthengine-api>=1.0.0->geemap) (2.3.0)\n",
      "Requirement already satisfied: certifi>=2017.4.17 in c:\\users\\mcphersonf\\appdata\\local\\anaconda3\\envs\\gee\\lib\\site-packages (from requests->earthengine-api>=1.0.0->geemap) (2024.12.14)\n",
      "Requirement already satisfied: decorator in c:\\users\\mcphersonf\\appdata\\local\\anaconda3\\envs\\gee\\lib\\site-packages (from ratelim->geocoder->geemap) (5.1.1)\n",
      "Requirement already satisfied: googleapis-common-protos<2.0.dev0,>=1.56.2 in c:\\users\\mcphersonf\\appdata\\local\\anaconda3\\envs\\gee\\lib\\site-packages (from google-api-core!=2.0.*,!=2.1.*,!=2.2.*,!=2.3.0,<3.0.0.dev0,>=1.31.5->google-api-python-client>=1.12.1->earthengine-api>=1.0.0->geemap) (1.66.0)\n",
      "Requirement already satisfied: protobuf!=3.20.0,!=3.20.1,!=4.21.0,!=4.21.1,!=4.21.2,!=4.21.3,!=4.21.4,!=4.21.5,<6.0.0.dev0,>=3.19.5 in c:\\users\\mcphersonf\\appdata\\local\\anaconda3\\envs\\gee\\lib\\site-packages (from google-api-core!=2.0.*,!=2.1.*,!=2.2.*,!=2.3.0,<3.0.0.dev0,>=1.31.5->google-api-python-client>=1.12.1->earthengine-api>=1.0.0->geemap) (5.29.3)\n",
      "Requirement already satisfied: proto-plus<2.0.0dev,>=1.22.3 in c:\\users\\mcphersonf\\appdata\\local\\anaconda3\\envs\\gee\\lib\\site-packages (from google-api-core!=2.0.*,!=2.1.*,!=2.2.*,!=2.3.0,<3.0.0.dev0,>=1.31.5->google-api-python-client>=1.12.1->earthengine-api>=1.0.0->geemap) (1.26.0)\n",
      "Requirement already satisfied: jedi>=0.16 in c:\\users\\mcphersonf\\appdata\\local\\anaconda3\\envs\\gee\\lib\\site-packages (from ipython>=6.1.0->ipywidgets->ipyfilechooser>=0.6.0->geemap) (0.19.2)\n",
      "Requirement already satisfied: matplotlib-inline in c:\\users\\mcphersonf\\appdata\\local\\anaconda3\\envs\\gee\\lib\\site-packages (from ipython>=6.1.0->ipywidgets->ipyfilechooser>=0.6.0->geemap) (0.1.6)\n",
      "Requirement already satisfied: prompt-toolkit<3.1.0,>=3.0.41 in c:\\users\\mcphersonf\\appdata\\local\\anaconda3\\envs\\gee\\lib\\site-packages (from ipython>=6.1.0->ipywidgets->ipyfilechooser>=0.6.0->geemap) (3.0.43)\n",
      "Requirement already satisfied: pygments>=2.4.0 in c:\\users\\mcphersonf\\appdata\\local\\anaconda3\\envs\\gee\\lib\\site-packages (from ipython>=6.1.0->ipywidgets->ipyfilechooser>=0.6.0->geemap) (2.15.1)\n",
      "Requirement already satisfied: stack-data in c:\\users\\mcphersonf\\appdata\\local\\anaconda3\\envs\\gee\\lib\\site-packages (from ipython>=6.1.0->ipywidgets->ipyfilechooser>=0.6.0->geemap) (0.2.0)\n",
      "Requirement already satisfied: pyasn1<0.7.0,>=0.4.6 in c:\\users\\mcphersonf\\appdata\\local\\anaconda3\\envs\\gee\\lib\\site-packages (from pyasn1-modules>=0.2.1->google-auth>=1.4.1->earthengine-api>=1.0.0->geemap) (0.6.1)\n",
      "Requirement already satisfied: parso<0.9.0,>=0.8.4 in c:\\users\\mcphersonf\\appdata\\local\\anaconda3\\envs\\gee\\lib\\site-packages (from jedi>=0.16->ipython>=6.1.0->ipywidgets->ipyfilechooser>=0.6.0->geemap) (0.8.4)\n",
      "Requirement already satisfied: wcwidth in c:\\users\\mcphersonf\\appdata\\local\\anaconda3\\envs\\gee\\lib\\site-packages (from prompt-toolkit<3.1.0,>=3.0.41->ipython>=6.1.0->ipywidgets->ipyfilechooser>=0.6.0->geemap) (0.2.5)\n",
      "Requirement already satisfied: executing in c:\\users\\mcphersonf\\appdata\\local\\anaconda3\\envs\\gee\\lib\\site-packages (from stack-data->ipython>=6.1.0->ipywidgets->ipyfilechooser>=0.6.0->geemap) (0.8.3)\n",
      "Requirement already satisfied: asttokens in c:\\users\\mcphersonf\\appdata\\local\\anaconda3\\envs\\gee\\lib\\site-packages (from stack-data->ipython>=6.1.0->ipywidgets->ipyfilechooser>=0.6.0->geemap) (2.0.5)\n",
      "Requirement already satisfied: pure-eval in c:\\users\\mcphersonf\\appdata\\local\\anaconda3\\envs\\gee\\lib\\site-packages (from stack-data->ipython>=6.1.0->ipywidgets->ipyfilechooser>=0.6.0->geemap) (0.2.2)\n"
     ]
    }
   ],
   "source": [
    "!pip install geemap"
   ]
  },
  {
   "cell_type": "code",
   "execution_count": 2,
   "id": "b0d2c821-d76d-48b9-a9c3-62c55c03d737",
   "metadata": {},
   "outputs": [],
   "source": [
    "import os\n",
    "import ee\n",
    "import geemap\n",
    "import pandas as pd\n",
    "from datetime import datetime, timedelta\n",
    "ee.Authenticate()\n",
    "ee.Initialize()"
   ]
  },
  {
   "cell_type": "code",
   "execution_count": 3,
   "id": "97bbb912-f0df-46bb-8c07-a2b7f59cb8fa",
   "metadata": {},
   "outputs": [
    {
     "data": {
      "text/html": [
       "\n",
       "            <style>\n",
       "                .geemap-dark {\n",
       "                    --jp-widgets-color: white;\n",
       "                    --jp-widgets-label-color: white;\n",
       "                    --jp-ui-font-color1: white;\n",
       "                    --jp-layout-color2: #454545;\n",
       "                    background-color: #383838;\n",
       "                }\n",
       "\n",
       "                .geemap-dark .jupyter-button {\n",
       "                    --jp-layout-color3: #383838;\n",
       "                }\n",
       "\n",
       "                .geemap-colab {\n",
       "                    background-color: var(--colab-primary-surface-color, white);\n",
       "                }\n",
       "\n",
       "                .geemap-colab .jupyter-button {\n",
       "                    --jp-layout-color3: var(--colab-primary-surface-color, white);\n",
       "                }\n",
       "            </style>\n",
       "            "
      ],
      "text/plain": [
       "<IPython.core.display.HTML object>"
      ]
     },
     "metadata": {},
     "output_type": "display_data"
    },
    {
     "name": "stdout",
     "output_type": "stream",
     "text": [
      "Requirement already satisfied: earthengine-api in c:\\users\\mcphersonf\\appdata\\local\\anaconda3\\envs\\gee\\lib\\site-packages (1.5.0)\n",
      "Requirement already satisfied: google-cloud-storage in c:\\users\\mcphersonf\\appdata\\local\\anaconda3\\envs\\gee\\lib\\site-packages (from earthengine-api) (3.0.0)\n",
      "Requirement already satisfied: google-api-python-client>=1.12.1 in c:\\users\\mcphersonf\\appdata\\local\\anaconda3\\envs\\gee\\lib\\site-packages (from earthengine-api) (2.160.0)\n",
      "Requirement already satisfied: google-auth>=1.4.1 in c:\\users\\mcphersonf\\appdata\\local\\anaconda3\\envs\\gee\\lib\\site-packages (from earthengine-api) (2.38.0)\n",
      "Requirement already satisfied: google-auth-httplib2>=0.0.3 in c:\\users\\mcphersonf\\appdata\\local\\anaconda3\\envs\\gee\\lib\\site-packages (from earthengine-api) (0.2.0)\n",
      "Requirement already satisfied: httplib2<1dev,>=0.9.2 in c:\\users\\mcphersonf\\appdata\\local\\anaconda3\\envs\\gee\\lib\\site-packages (from earthengine-api) (0.22.0)\n",
      "Requirement already satisfied: requests in c:\\users\\mcphersonf\\appdata\\local\\anaconda3\\envs\\gee\\lib\\site-packages (from earthengine-api) (2.32.3)\n",
      "Requirement already satisfied: google-api-core!=2.0.*,!=2.1.*,!=2.2.*,!=2.3.0,<3.0.0.dev0,>=1.31.5 in c:\\users\\mcphersonf\\appdata\\local\\anaconda3\\envs\\gee\\lib\\site-packages (from google-api-python-client>=1.12.1->earthengine-api) (2.24.1)\n",
      "Requirement already satisfied: uritemplate<5,>=3.0.1 in c:\\users\\mcphersonf\\appdata\\local\\anaconda3\\envs\\gee\\lib\\site-packages (from google-api-python-client>=1.12.1->earthengine-api) (4.1.1)\n",
      "Requirement already satisfied: cachetools<6.0,>=2.0.0 in c:\\users\\mcphersonf\\appdata\\local\\anaconda3\\envs\\gee\\lib\\site-packages (from google-auth>=1.4.1->earthengine-api) (5.5.1)\n",
      "Requirement already satisfied: pyasn1-modules>=0.2.1 in c:\\users\\mcphersonf\\appdata\\local\\anaconda3\\envs\\gee\\lib\\site-packages (from google-auth>=1.4.1->earthengine-api) (0.4.1)\n",
      "Requirement already satisfied: rsa<5,>=3.1.4 in c:\\users\\mcphersonf\\appdata\\local\\anaconda3\\envs\\gee\\lib\\site-packages (from google-auth>=1.4.1->earthengine-api) (4.9)\n",
      "Requirement already satisfied: pyparsing!=3.0.0,!=3.0.1,!=3.0.2,!=3.0.3,<4,>=2.4.2 in c:\\users\\mcphersonf\\appdata\\local\\anaconda3\\envs\\gee\\lib\\site-packages (from httplib2<1dev,>=0.9.2->earthengine-api) (3.2.1)\n",
      "Requirement already satisfied: google-cloud-core<3.0dev,>=2.3.0 in c:\\users\\mcphersonf\\appdata\\local\\anaconda3\\envs\\gee\\lib\\site-packages (from google-cloud-storage->earthengine-api) (2.4.1)\n",
      "Requirement already satisfied: google-resumable-media>=2.7.2 in c:\\users\\mcphersonf\\appdata\\local\\anaconda3\\envs\\gee\\lib\\site-packages (from google-cloud-storage->earthengine-api) (2.7.2)\n",
      "Requirement already satisfied: google-crc32c<2.0dev,>=1.0 in c:\\users\\mcphersonf\\appdata\\local\\anaconda3\\envs\\gee\\lib\\site-packages (from google-cloud-storage->earthengine-api) (1.6.0)\n",
      "Requirement already satisfied: charset-normalizer<4,>=2 in c:\\users\\mcphersonf\\appdata\\local\\anaconda3\\envs\\gee\\lib\\site-packages (from requests->earthengine-api) (3.3.2)\n",
      "Requirement already satisfied: idna<4,>=2.5 in c:\\users\\mcphersonf\\appdata\\local\\anaconda3\\envs\\gee\\lib\\site-packages (from requests->earthengine-api) (3.7)\n",
      "Requirement already satisfied: urllib3<3,>=1.21.1 in c:\\users\\mcphersonf\\appdata\\local\\anaconda3\\envs\\gee\\lib\\site-packages (from requests->earthengine-api) (2.3.0)\n",
      "Requirement already satisfied: certifi>=2017.4.17 in c:\\users\\mcphersonf\\appdata\\local\\anaconda3\\envs\\gee\\lib\\site-packages (from requests->earthengine-api) (2024.12.14)\n",
      "Requirement already satisfied: googleapis-common-protos<2.0.dev0,>=1.56.2 in c:\\users\\mcphersonf\\appdata\\local\\anaconda3\\envs\\gee\\lib\\site-packages (from google-api-core!=2.0.*,!=2.1.*,!=2.2.*,!=2.3.0,<3.0.0.dev0,>=1.31.5->google-api-python-client>=1.12.1->earthengine-api) (1.66.0)\n",
      "Requirement already satisfied: protobuf!=3.20.0,!=3.20.1,!=4.21.0,!=4.21.1,!=4.21.2,!=4.21.3,!=4.21.4,!=4.21.5,<6.0.0.dev0,>=3.19.5 in c:\\users\\mcphersonf\\appdata\\local\\anaconda3\\envs\\gee\\lib\\site-packages (from google-api-core!=2.0.*,!=2.1.*,!=2.2.*,!=2.3.0,<3.0.0.dev0,>=1.31.5->google-api-python-client>=1.12.1->earthengine-api) (5.29.3)\n",
      "Requirement already satisfied: proto-plus<2.0.0dev,>=1.22.3 in c:\\users\\mcphersonf\\appdata\\local\\anaconda3\\envs\\gee\\lib\\site-packages (from google-api-core!=2.0.*,!=2.1.*,!=2.2.*,!=2.3.0,<3.0.0.dev0,>=1.31.5->google-api-python-client>=1.12.1->earthengine-api) (1.26.0)\n",
      "Requirement already satisfied: pyasn1<0.7.0,>=0.4.6 in c:\\users\\mcphersonf\\appdata\\local\\anaconda3\\envs\\gee\\lib\\site-packages (from pyasn1-modules>=0.2.1->google-auth>=1.4.1->earthengine-api) (0.6.1)\n",
      "Note: you may need to restart the kernel to use updated packages.\n"
     ]
    }
   ],
   "source": [
    "pip install earthengine-api"
   ]
  },
  {
   "cell_type": "code",
   "execution_count": 4,
   "id": "08c18006-3635-4c37-bf5a-95ce76455add",
   "metadata": {
    "scrolled": true
   },
   "outputs": [
    {
     "data": {
      "text/html": [
       "\n",
       "            <style>\n",
       "                .geemap-dark {\n",
       "                    --jp-widgets-color: white;\n",
       "                    --jp-widgets-label-color: white;\n",
       "                    --jp-ui-font-color1: white;\n",
       "                    --jp-layout-color2: #454545;\n",
       "                    background-color: #383838;\n",
       "                }\n",
       "\n",
       "                .geemap-dark .jupyter-button {\n",
       "                    --jp-layout-color3: #383838;\n",
       "                }\n",
       "\n",
       "                .geemap-colab {\n",
       "                    background-color: var(--colab-primary-surface-color, white);\n",
       "                }\n",
       "\n",
       "                .geemap-colab .jupyter-button {\n",
       "                    --jp-layout-color3: var(--colab-primary-surface-color, white);\n",
       "                }\n",
       "            </style>\n",
       "            "
      ],
      "text/plain": [
       "<IPython.core.display.HTML object>"
      ]
     },
     "metadata": {},
     "output_type": "display_data"
    }
   ],
   "source": [
    "Map = geemap.Map()"
   ]
  },
  {
   "cell_type": "code",
   "execution_count": 5,
   "id": "69c7657d-8246-44ad-99fc-e025721e8b4f",
   "metadata": {
    "scrolled": true
   },
   "outputs": [
    {
     "data": {
      "text/html": [
       "\n",
       "            <style>\n",
       "                .geemap-dark {\n",
       "                    --jp-widgets-color: white;\n",
       "                    --jp-widgets-label-color: white;\n",
       "                    --jp-ui-font-color1: white;\n",
       "                    --jp-layout-color2: #454545;\n",
       "                    background-color: #383838;\n",
       "                }\n",
       "\n",
       "                .geemap-dark .jupyter-button {\n",
       "                    --jp-layout-color3: #383838;\n",
       "                }\n",
       "\n",
       "                .geemap-colab {\n",
       "                    background-color: var(--colab-primary-surface-color, white);\n",
       "                }\n",
       "\n",
       "                .geemap-colab .jupyter-button {\n",
       "                    --jp-layout-color3: var(--colab-primary-surface-color, white);\n",
       "                }\n",
       "            </style>\n",
       "            "
      ],
      "text/plain": [
       "<IPython.core.display.HTML object>"
      ]
     },
     "metadata": {},
     "output_type": "display_data"
    }
   ],
   "source": [
    "### IMPORT HIGH WATER LINE LAYERS ###\n",
    "\n",
    "AristazabalIsland = ee.FeatureCollection(\"projects/ee-flickandzed/assets/AristazabalIsland\")\n",
    "BanksIsland = ee.FeatureCollection(\"projects/ee-flickandzed/assets/BanksIsland\")\n",
    "BellaBella = ee.FeatureCollection(\"projects/ee-flickandzed/assets/BellaBella\")\n",
    "BellaCoola = ee.FeatureCollection(\"projects/ee-flickandzed/assets/BellaCoola\")\n",
    "CalvertIsland = ee.FeatureCollection(\"projects/ee-flickandzed/assets/CalvertIsland\")\n",
    "CampbellRiver = ee.FeatureCollection(\"projects/ee-flickandzed/assets/CampbellRiver\")\n",
    "CapeScott = ee.FeatureCollection(\"projects/ee-flickandzed/assets/CapeScott\")\n",
    "Comox = ee.FeatureCollection(\"projects/ee-flickandzed/assets/Comox\")\n",
    "GoldRiver = ee.FeatureCollection(\"projects/ee-flickandzed/assets/GoldRiver\")\n",
    "HartleyBay = ee.FeatureCollection(\"projects/ee-flickandzed/assets/HartleyBay\")\n",
    "Kitkatla = ee.FeatureCollection(\"projects/ee-flickandzed/assets/Kitkatla\")\n",
    "Klemtu = ee.FeatureCollection(\"projects/ee-flickandzed/assets/Klemtu\")\n",
    "Kyuquot = ee.FeatureCollection(\"projects/ee-flickandzed/assets/Kyuquot\")\n",
    "Lund = ee.FeatureCollection(\"projects/ee-flickandzed/assets/Lund\")\n",
    "Masset = ee.FeatureCollection(\"projects/ee-flickandzed/assets/Masset\")\n",
    "MoresbyCamp = ee.FeatureCollection(\"projects/ee-flickandzed/assets/MoresbyCamp\")\n",
    "Nanaimo = ee.FeatureCollection(\"projects/ee-flickandzed/assets/Nanaimo\")\n",
    "Ninstints = ee.FeatureCollection(\"projects/ee-flickandzed/assets/Ninstints\")\n",
    "OceanFalls = ee.FeatureCollection(\"projects/ee-flickandzed/assets/OceanFalls\")\n",
    "Oweekeno = ee.FeatureCollection(\"projects/ee-flickandzed/assets/Oweekeno\")\n",
    "PittsIsland = ee.FeatureCollection(\"projects/ee-flickandzed/assets/PittsIsland\")\n",
    "PortAlice = ee.FeatureCollection(\"projects/ee-flickandzed/assets/PortAlice\")\n",
    "PortClements = ee.FeatureCollection(\"projects/ee-flickandzed/assets/PortClements\")\n",
    "PortMcNeill = ee.FeatureCollection(\"projects/ee-flickandzed/assets/PortMcNeill\")\n",
    "PortRenfrew = ee.FeatureCollection(\"projects/ee-flickandzed/assets/PortRenfrew\")\n",
    "PrinceRupert = ee.FeatureCollection(\"projects/ee-flickandzed/assets/PrinceRupert\")\n",
    "RobsonBight = ee.FeatureCollection(\"projects/ee-flickandzed/assets/RobsonBight\")\n",
    "RoseHarbour = ee.FeatureCollection(\"projects/ee-flickandzed/assets/RoseHarbour\")\n",
    "SeymourInlet = ee.FeatureCollection(\"projects/ee-flickandzed/assets/SeymourInlet\")\n",
    "Skidegate = ee.FeatureCollection(\"projects/ee-flickandzed/assets/Skidegate\")\n",
    "SmithInlet = ee.FeatureCollection(\"projects/ee-flickandzed/assets/SmithInlet\")\n",
    "Squamish = ee.FeatureCollection(\"projects/ee-flickandzed/assets/Squamish\")\n",
    "Stewart = ee.FeatureCollection(\"projects/ee-flickandzed/assets/Stewart\")\n",
    "Tofino = ee.FeatureCollection(\"projects/ee-flickandzed/assets/Tofino\")\n",
    "Vancouver = ee.FeatureCollection(\"projects/ee-flickandzed/assets/Vancouver\")\n",
    "Victoria = ee.FeatureCollection(\"projects/ee-flickandzed/assets/Victoria\")\n",
    "\n",
    "regions = [AristazabalIsland, BanksIsland, BellaBella, BellaCoola, CalvertIsland, CampbellRiver, CapeScott, Comox, GoldRiver, HartleyBay, \n",
    "           Kitkatla, Klemtu, Kyuquot, Lund, Masset, MoresbyCamp, Nanaimo, Ninstints, OceanFalls, Oweekeno, PittsIsland, PortAlice, \n",
    "           PortClements, PortMcNeill, PortRenfrew, PrinceRupert, RobsonBight, RoseHarbour, SeymourInlet, Skidegate, SmithInlet, Squamish, \n",
    "           Stewart, Tofino, Vancouver, Victoria]"
   ]
  },
  {
   "cell_type": "code",
   "execution_count": 6,
   "id": "55fa5589-2a91-4e24-b3d3-a37e96577d53",
   "metadata": {},
   "outputs": [
    {
     "data": {
      "text/html": [
       "\n",
       "            <style>\n",
       "                .geemap-dark {\n",
       "                    --jp-widgets-color: white;\n",
       "                    --jp-widgets-label-color: white;\n",
       "                    --jp-ui-font-color1: white;\n",
       "                    --jp-layout-color2: #454545;\n",
       "                    background-color: #383838;\n",
       "                }\n",
       "\n",
       "                .geemap-dark .jupyter-button {\n",
       "                    --jp-layout-color3: #383838;\n",
       "                }\n",
       "\n",
       "                .geemap-colab {\n",
       "                    background-color: var(--colab-primary-surface-color, white);\n",
       "                }\n",
       "\n",
       "                .geemap-colab .jupyter-button {\n",
       "                    --jp-layout-color3: var(--colab-primary-surface-color, white);\n",
       "                }\n",
       "            </style>\n",
       "            "
      ],
      "text/plain": [
       "<IPython.core.display.HTML object>"
      ]
     },
     "metadata": {},
     "output_type": "display_data"
    }
   ],
   "source": [
    "### BUFFER ###\n",
    "\n",
    "def buffer200(coastline):\n",
    "    roi = coastline.map(lambda feature: feature.buffer(200))\n",
    "    return roi.union().geometry()\n",
    "\n",
    "buffered_regions = []\n",
    "\n",
    "for region in regions:\n",
    "    buffered_regions.append(buffer200(region))\n",
    "    \n",
    "Map.setCenter(-129,51.5, 6)"
   ]
  },
  {
   "cell_type": "code",
   "execution_count": 7,
   "id": "6b515ec4-b68a-4096-aa0a-395735249647",
   "metadata": {},
   "outputs": [
    {
     "data": {
      "text/html": [
       "\n",
       "            <style>\n",
       "                .geemap-dark {\n",
       "                    --jp-widgets-color: white;\n",
       "                    --jp-widgets-label-color: white;\n",
       "                    --jp-ui-font-color1: white;\n",
       "                    --jp-layout-color2: #454545;\n",
       "                    background-color: #383838;\n",
       "                }\n",
       "\n",
       "                .geemap-dark .jupyter-button {\n",
       "                    --jp-layout-color3: #383838;\n",
       "                }\n",
       "\n",
       "                .geemap-colab {\n",
       "                    background-color: var(--colab-primary-surface-color, white);\n",
       "                }\n",
       "\n",
       "                .geemap-colab .jupyter-button {\n",
       "                    --jp-layout-color3: var(--colab-primary-surface-color, white);\n",
       "                }\n",
       "            </style>\n",
       "            "
      ],
      "text/plain": [
       "<IPython.core.display.HTML object>"
      ]
     },
     "metadata": {},
     "output_type": "display_data"
    }
   ],
   "source": [
    "### DATE RANGE ###\n",
    "\n",
    "### filtered for dates with low tide (under 1m) at 7:30PM UTM (noon pacific time) in excel\n",
    "### T for tides, DL for date list\n",
    "\n",
    "### returns a list of dates in \"YYYY-MM-DD\" format\n",
    "def time_filter(low_tide_predictions):\n",
    "    date_list = low_tide_predictions['under1m'].dropna().tolist()\n",
    "    date_list = [date for date in date_list if any(time in date for time in ['T18', 'T19', 'T20'])]\n",
    "    return [date.split('T')[0] for date in date_list]\n",
    "\n",
    "AristazabalIslandT = pd.read_csv('C:/Users/mcphersonf/Documents/work/a_final_files/tides/Annual_Predictions_Borrowman Bay_2024.csv')\n",
    "AristazabalIslandDL = time_filter(AristazabalIslandT)\n",
    "BanksIslandT = pd.read_csv(\"C:/Users/mcphersonf/Documents/work/a_final_files/tides/Annual_Predictions_Griffith Harbour_2024.csv\")\n",
    "BanksIslandDL = time_filter(BanksIslandT)\n",
    "BellaBellaT = pd.read_csv('C:/Users/mcphersonf/Documents/work/a_final_files/tides/Annual_Predictions_Bella Bella_2024.csv')\n",
    "BellaBellaDL = time_filter(BellaBellaT)\n",
    "BellaCoolaT = pd.read_csv('C:/Users/mcphersonf/Documents/work/a_final_files/tides/Annual_Predictions_Bella Coola_2024.csv')\n",
    "BellaCoolaDL = time_filter(BellaCoolaT)\n",
    "CalvertIslandT = pd.read_csv('C:/Users/mcphersonf/Documents/work/a_final_files/tides/Annual_Predictions_Egg Island_2024.csv')\n",
    "CalvertIslandDL = time_filter(CalvertIslandT)\n",
    "CampbellRiverT = pd.read_csv('C:/Users/mcphersonf/Documents/work/a_final_files/tides/Annual_Predictions_Big Bay, Stuart Island_2024.csv')\n",
    "CampbellRiverDL = time_filter(CampbellRiverT)\n",
    "CapeScottT = pd.read_csv('C:/Users/mcphersonf/Documents/work/a_final_files/tides/Annual_Predictions_Shushartie Bay_2024.csv')\n",
    "CapeScottDL = time_filter(CapeScottT)\n",
    "ComoxT = pd.read_csv('C:/Users/mcphersonf/Documents/work/a_final_files/tides/Annual_Predictions_Welcome Bay_2024.csv')\n",
    "ComoxDL = time_filter(ComoxT)\n",
    "GoldRiverT = pd.read_csv('C:/Users/mcphersonf/Documents/work/a_final_files/tides/Annual_Predictions_Esperanza_2024.csv')\n",
    "GoldRiverDL = time_filter(GoldRiverT)\n",
    "HartleyBayT = pd.read_csv('C:/Users/mcphersonf/Documents/work/a_final_files/tides/Annual_Predictions_Kitimat_2024.csv')\n",
    "HartleyBayDL = time_filter(HartleyBayT)\n",
    "KitkatlaT = pd.read_csv('C:/Users/mcphersonf/Documents/work/a_final_files/tides/Annual_Predictions_Refuge Bay_2024.csv')\n",
    "KitkatlaDL = time_filter(KitkatlaT)\n",
    "KlemtuT = pd.read_csv('C:/Users/mcphersonf/Documents/work/a_final_files/tides/Annual_Predictions_Klemtu_2024.csv')\n",
    "KlemtuDL = time_filter(KlemtuT)\n",
    "KyuquotT = pd.read_csv('C:/Users/mcphersonf/Documents/work/a_final_files/tides/Annual_Predictions_Copp Island_2024.csv')\n",
    "KyuquotDL = time_filter(KyuquotT)\n",
    "LundT = pd.read_csv('C:/Users/mcphersonf/Documents/work/a_final_files/tides/Annual_Predictions_Prideaux Haven_2024.csv')\n",
    "LundDL = time_filter(LundT)\n",
    "MassetT = pd.read_csv('C:/Users/mcphersonf/Documents/work/a_final_files/tides/Annual_Predictions_Wiah Point_2024.csv')\n",
    "MassetDL = time_filter(MassetT)\n",
    "MoresbyCampT = pd.read_csv('C:/Users/mcphersonf/Documents/work/a_final_files/tides/Annual_Predictions_Pacofi Bay_2024.csv')\n",
    "MoresbyCampDL = time_filter(MoresbyCampT)\n",
    "NanaimoT = pd.read_csv('C:/Users/mcphersonf/Documents/work/a_final_files/tides/Annual_Predictions_Cardale Point_2024.csv')\n",
    "NanaimoDL = time_filter(NanaimoT)\n",
    "NinstintsT = pd.read_csv('C:/Users/mcphersonf/Documents/work/a_final_files/tides/Annual_Predictions_Gordon Islands_2024.csv')\n",
    "NinstintsDL = time_filter(NinstintsT)\n",
    "OceanFallsT = pd.read_csv('C:/Users/mcphersonf/Documents/work/a_final_files/tides/Annual_Predictions_Gerald Point_2024.csv')\n",
    "OceanFallsDL = time_filter(OceanFallsT)\n",
    "OweekenoT = pd.read_csv('C:/Users/mcphersonf/Documents/work/a_final_files/tides/Annual_Predictions_Wadhams_2024.csv')\n",
    "OweekenoDL = time_filter(OweekenoT)\n",
    "PittsIslandT = pd.read_csv('C:/Users/mcphersonf/Documents/work/a_final_files/tides/Annual_Predictions_Lowe Inlet_2024.csv')\n",
    "PittsIslandDL = time_filter(PittsIslandT)\n",
    "PortAliceT = pd.read_csv('C:/Users/mcphersonf/Documents/work/a_final_files/tides/Annual_Predictions_Bergh Cove_2024.csv')\n",
    "PortAliceDL = time_filter(PortAliceT)\n",
    "PortClementsT = pd.read_csv('C:/Users/mcphersonf/Documents/work/a_final_files/tides/Annual_Predictions_Port Clements_2024.csv')\n",
    "PortClementsDL = time_filter(PortClementsT)\n",
    "PortMcNeillT = pd.read_csv('C:/Users/mcphersonf/Documents/work/a_final_files/tides/Annual_Predictions_Alert Bay_2024.csv')\n",
    "PortMcNeillDL = time_filter(PortMcNeillT)\n",
    "PortRenfrewT = pd.read_csv('C:/Users/mcphersonf/Documents/work/a_final_files/tides/Annual_Predictions_Port Renfrew_2024.csv')\n",
    "PortRenfrewDL = time_filter(PortRenfrewT)\n",
    "PrinceRupertT = pd.read_csv('C:/Users/mcphersonf/Documents/work/a_final_files/tides/Annual_Predictions_Haysport_2024.csv')\n",
    "PrinceRupertDL = time_filter(PrinceRupertT)\n",
    "RobsonBightT = pd.read_csv('C:/Users/mcphersonf/Documents/work/a_final_files/tides/Annual_Predictions_Siwash Bay_2024.csv')\n",
    "RobsonBightDL = time_filter(RobsonBightT)\n",
    "RoseHarbourT = pd.read_csv('C:/Users/mcphersonf/Documents/work/a_final_files/tides/Annual_Predictions_Carpenter Bay_2024.csv')\n",
    "RoseHarbourDL = time_filter(RoseHarbourT)\n",
    "SeymourInletT = pd.read_csv('C:/Users/mcphersonf/Documents/work/a_final_files/tides/Annual_Predictions_Belize Inlet_2024.csv')\n",
    "SeymourInletDL = time_filter(SeymourInletT)\n",
    "SkidegateT = pd.read_csv('C:/Users/mcphersonf/Documents/work/a_final_files/tides/Annual_Predictions_Dawson Harbour_2024.csv')\n",
    "SkidegateDL = time_filter(SkidegateT)\n",
    "SmithInletT = pd.read_csv('C:/Users/mcphersonf/Documents/work/a_final_files/tides/Annual_Predictions_Boswell Inlet_2024.csv')\n",
    "SmithInletDL = time_filter(SmithInletT)\n",
    "SquamishT = pd.read_csv('C:/Users/mcphersonf/Documents/work/a_final_files/tides/Annual_Predictions_Darrell Bay_2024.csv')\n",
    "SquamishDL = time_filter(SquamishT)\n",
    "StewartT = pd.read_csv('C:/Users/mcphersonf/Documents/work/a_final_files/tides/Annual_Predictions_Gingolx_2024.csv')\n",
    "StewartDL = time_filter(StewartT)\n",
    "TofinoT = pd.read_csv('C:/Users/mcphersonf/Documents/work/a_final_files/tides/Annual_Predictions_Cypress Bay_2024.csv')\n",
    "TofinoDL = time_filter(TofinoT)\n",
    "VancouverT = pd.read_csv('C:/Users/mcphersonf/Documents/work/a_final_files/tides/Annual_Predictions_New Westminster_2024.csv')\n",
    "VancouverDL = time_filter(VancouverT)\n",
    "VictoriaT = pd.read_csv('C:/Users/mcphersonf/Documents/work/a_final_files/tides/Annual_Predictions_Saanichton Bay_2024.csv')\n",
    "VictoriaDL = time_filter(VictoriaT)\n",
    "\n",
    "### the following have less than 7 possible low tide dates at noon pacific time\n",
    "### the possible dates from 2023 are being added\n",
    "\n",
    "KitkatlaT2023 = pd.read_csv('C:/Users/mcphersonf/Documents/work/a_final_files/tides/Annual_Predictions_Refuge Bay_2023.csv')\n",
    "KitkatlaDL2023 = time_filter(KitkatlaT2023)\n",
    "KlemtuT2023 = pd.read_csv('C:/Users/mcphersonf/Documents/work/a_final_files/tides/Annual_Predictions_Klemtu_2023.csv')\n",
    "KlemtuDL2023 = time_filter(KlemtuT2023)\n",
    "MassetT2023 = pd.read_csv('C:/Users/mcphersonf/Documents/work/a_final_files/tides/Annual_Predictions_Wiah Point_2023.csv')\n",
    "MassetDL2023 = time_filter(MassetT2023)\n",
    "PittsIslandT2023 = pd.read_csv('C:/Users/mcphersonf/Documents/work/a_final_files/tides/Annual_Predictions_Lowe Inlet_2023.csv')\n",
    "PittsIslandDL2023 = time_filter(PittsIslandT2023)\n",
    "StewartT2023 = pd.read_csv('C:/Users/mcphersonf/Documents/work/a_final_files/tides/Annual_Predictions_Gingolx_2023.csv')\n",
    "StewartDL2023 = time_filter(StewartT2023)\n",
    "\n",
    "for date in KitkatlaDL2023:\n",
    "    KitkatlaDL.append(date)\n",
    "for date in KlemtuDL2023:\n",
    "    KlemtuDL.append(date)\n",
    "for date in MassetDL2023:\n",
    "    MassetDL.append(date)\n",
    "for date in PittsIslandDL2023:\n",
    "    PittsIslandDL.append(date)\n",
    "for date in StewartDL2023:\n",
    "    StewartDL.append(date)\n",
    "\n",
    "date_lists = [AristazabalIslandDL, BanksIslandDL, BellaBellaDL, BellaCoolaDL, CalvertIslandDL, CampbellRiverDL, CapeScottDL, ComoxDL, GoldRiverDL, HartleyBayDL, \n",
    "           KitkatlaDL, KlemtuDL, KyuquotDL, LundDL, MassetDL, MoresbyCampDL, NanaimoDL, NinstintsDL, OceanFallsDL, OweekenoDL, PittsIslandDL, PortAliceDL, \n",
    "           PortClementsDL, PortMcNeillDL, PortRenfrewDL, PrinceRupertDL, RobsonBightDL, RoseHarbourDL, SeymourInletDL, SkidegateDL, SmithInletDL, SquamishDL, \n",
    "           StewartDL, TofinoDL, VancouverDL, VictoriaDL]"
   ]
  },
  {
   "cell_type": "code",
   "execution_count": 8,
   "id": "7ff15225-d9dc-42e6-995c-c7bfe8b295fa",
   "metadata": {},
   "outputs": [
    {
     "data": {
      "text/html": [
       "\n",
       "            <style>\n",
       "                .geemap-dark {\n",
       "                    --jp-widgets-color: white;\n",
       "                    --jp-widgets-label-color: white;\n",
       "                    --jp-ui-font-color1: white;\n",
       "                    --jp-layout-color2: #454545;\n",
       "                    background-color: #383838;\n",
       "                }\n",
       "\n",
       "                .geemap-dark .jupyter-button {\n",
       "                    --jp-layout-color3: #383838;\n",
       "                }\n",
       "\n",
       "                .geemap-colab {\n",
       "                    background-color: var(--colab-primary-surface-color, white);\n",
       "                }\n",
       "\n",
       "                .geemap-colab .jupyter-button {\n",
       "                    --jp-layout-color3: var(--colab-primary-surface-color, white);\n",
       "                }\n",
       "            </style>\n",
       "            "
      ],
      "text/plain": [
       "<IPython.core.display.HTML object>"
      ]
     },
     "metadata": {},
     "output_type": "display_data"
    }
   ],
   "source": [
    "### ORBIT FILTER ###\n",
    "\n",
    "### returns a filter for an image collection\n",
    "def orbit_filter(i):\n",
    "    region = buffered_regions[i]\n",
    "    s2_collection = ee.ImageCollection(\"COPERNICUS/S2_SR_HARMONIZED\").filterBounds(region)\n",
    "    \n",
    "    orbits = s2_collection.aggregate_histogram(\"SENSING_ORBIT_NUMBER\").getInfo()\n",
    "    orbit_numbers = list(map(float, orbits))\n",
    "    orbit_list = list(map(int, orbit_numbers))\n",
    "\n",
    "    orbit_filter = ee.Filter.Or(*[ee.Filter.eq(\"SENSING_ORBIT_NUMBER\", o) for o in orbit_list])\n",
    "    return orbit_filter"
   ]
  },
  {
   "cell_type": "code",
   "execution_count": 9,
   "id": "a6987605-a36c-4872-b221-86f226ea2615",
   "metadata": {},
   "outputs": [
    {
     "data": {
      "text/html": [
       "\n",
       "            <style>\n",
       "                .geemap-dark {\n",
       "                    --jp-widgets-color: white;\n",
       "                    --jp-widgets-label-color: white;\n",
       "                    --jp-ui-font-color1: white;\n",
       "                    --jp-layout-color2: #454545;\n",
       "                    background-color: #383838;\n",
       "                }\n",
       "\n",
       "                .geemap-dark .jupyter-button {\n",
       "                    --jp-layout-color3: #383838;\n",
       "                }\n",
       "\n",
       "                .geemap-colab {\n",
       "                    background-color: var(--colab-primary-surface-color, white);\n",
       "                }\n",
       "\n",
       "                .geemap-colab .jupyter-button {\n",
       "                    --jp-layout-color3: var(--colab-primary-surface-color, white);\n",
       "                }\n",
       "            </style>\n",
       "            "
      ],
      "text/plain": [
       "<IPython.core.display.HTML object>"
      ]
     },
     "metadata": {},
     "output_type": "display_data"
    }
   ],
   "source": [
    "### DATE FILTER ###\n",
    "\n",
    "### requires the list date_list to not be empty\n",
    "### returns a filter for an image collection\n",
    "def date_filter(i):\n",
    "    date_list = date_lists[i]\n",
    "    date_filter = ee.Filter.date(date_list[0])\n",
    "    dates_added = [date_list[0]]\n",
    "    for date in date_list:\n",
    "        if date not in dates_added:\n",
    "            date_obj = datetime.strptime(date, \"%Y-%m-%d\")\n",
    "            next_day = date_obj + timedelta(days=1)\n",
    "            next_day_str = next_day.strftime(\"%Y-%m-%d\")\n",
    "            dates_added.append(next_day_str)\n",
    "    \n",
    "            while next_day_str in date_list:\n",
    "                next_day = next_day + timedelta(days=1)\n",
    "                next_day_str = next_day.strftime(\"%Y-%m-%d\")\n",
    "                dates_added.append(next_day_str)\n",
    "            \n",
    "            date_filter = ee.Filter.Or(\n",
    "                ee.Filter.date(date, next_day_str), \n",
    "                date_filter\n",
    "            )\n",
    "    return date_filter"
   ]
  },
  {
   "cell_type": "code",
   "execution_count": 25,
   "id": "c65b9167-e5a7-4617-bd38-9d94aa807bf4",
   "metadata": {},
   "outputs": [
    {
     "data": {
      "text/html": [
       "\n",
       "            <style>\n",
       "                .geemap-dark {\n",
       "                    --jp-widgets-color: white;\n",
       "                    --jp-widgets-label-color: white;\n",
       "                    --jp-ui-font-color1: white;\n",
       "                    --jp-layout-color2: #454545;\n",
       "                    background-color: #383838;\n",
       "                }\n",
       "\n",
       "                .geemap-dark .jupyter-button {\n",
       "                    --jp-layout-color3: #383838;\n",
       "                }\n",
       "\n",
       "                .geemap-colab {\n",
       "                    background-color: var(--colab-primary-surface-color, white);\n",
       "                }\n",
       "\n",
       "                .geemap-colab .jupyter-button {\n",
       "                    --jp-layout-color3: var(--colab-primary-surface-color, white);\n",
       "                }\n",
       "            </style>\n",
       "            "
      ],
      "text/plain": [
       "<IPython.core.display.HTML object>"
      ]
     },
     "metadata": {},
     "output_type": "display_data"
    }
   ],
   "source": [
    "### CHOOSE IMAGES TEST ###\n",
    "\n",
    "trueColour = {'bands': [\"B4\", \"B3\", \"B2\"],'min': 0,'max': 2000}\n",
    "\n",
    "i = -1\n",
    "S2_collection = ee.ImageCollection(\"COPERNICUS/S2_SR_HARMONIZED\")\n",
    "S2_collection = S2_collection.filter(orbit_filter(i)).filterBounds(buffered_regions[i]).filter(date_filter(i))\n",
    "S2_collection = S2_collection.sort(\"CLOUD_COVERAGE_ASSESSMENT\", False).mosaic()\n",
    "### the second parameter in .sort() being false makes the least cloudy imagery appear because .mosaic() stacks the imagery\n",
    "\n",
    "Map.addLayer(S2_collection.clip(buffered_regions[i]), trueColour, \"Victoria\")\n",
    "Map.setCenter(-129,51.5, 6)\n",
    "Map"
   ]
  },
  {
   "cell_type": "code",
   "execution_count": 10,
   "id": "627d2861-14bd-4801-a480-6b18a661b88e",
   "metadata": {},
   "outputs": [
    {
     "data": {
      "text/html": [
       "\n",
       "            <style>\n",
       "                .geemap-dark {\n",
       "                    --jp-widgets-color: white;\n",
       "                    --jp-widgets-label-color: white;\n",
       "                    --jp-ui-font-color1: white;\n",
       "                    --jp-layout-color2: #454545;\n",
       "                    background-color: #383838;\n",
       "                }\n",
       "\n",
       "                .geemap-dark .jupyter-button {\n",
       "                    --jp-layout-color3: #383838;\n",
       "                }\n",
       "\n",
       "                .geemap-colab {\n",
       "                    background-color: var(--colab-primary-surface-color, white);\n",
       "                }\n",
       "\n",
       "                .geemap-colab .jupyter-button {\n",
       "                    --jp-layout-color3: var(--colab-primary-surface-color, white);\n",
       "                }\n",
       "            </style>\n",
       "            "
      ],
      "text/plain": [
       "<IPython.core.display.HTML object>"
      ]
     },
     "metadata": {},
     "output_type": "display_data"
    },
    {
     "ename": "EEException",
     "evalue": "Computation timed out.",
     "output_type": "error",
     "traceback": [
      "\u001b[1;31m---------------------------------------------------------------------------\u001b[0m",
      "\u001b[1;31mHttpError\u001b[0m                                 Traceback (most recent call last)",
      "File \u001b[1;32m~\\AppData\\Local\\anaconda3\\envs\\gee\\Lib\\site-packages\\ee\\data.py:408\u001b[0m, in \u001b[0;36m_execute_cloud_call\u001b[1;34m(call, num_retries)\u001b[0m\n\u001b[0;32m    407\u001b[0m \u001b[38;5;28;01mtry\u001b[39;00m:\n\u001b[1;32m--> 408\u001b[0m   \u001b[38;5;28;01mreturn\u001b[39;00m call\u001b[38;5;241m.\u001b[39mexecute(num_retries\u001b[38;5;241m=\u001b[39mnum_retries)\n\u001b[0;32m    409\u001b[0m \u001b[38;5;28;01mexcept\u001b[39;00m googleapiclient\u001b[38;5;241m.\u001b[39merrors\u001b[38;5;241m.\u001b[39mHttpError \u001b[38;5;28;01mas\u001b[39;00m e:\n",
      "File \u001b[1;32m~\\AppData\\Local\\anaconda3\\envs\\gee\\Lib\\site-packages\\googleapiclient\\_helpers.py:130\u001b[0m, in \u001b[0;36mpositional.<locals>.positional_decorator.<locals>.positional_wrapper\u001b[1;34m(*args, **kwargs)\u001b[0m\n\u001b[0;32m    129\u001b[0m         logger\u001b[38;5;241m.\u001b[39mwarning(message)\n\u001b[1;32m--> 130\u001b[0m \u001b[38;5;28;01mreturn\u001b[39;00m wrapped(\u001b[38;5;241m*\u001b[39margs, \u001b[38;5;241m*\u001b[39m\u001b[38;5;241m*\u001b[39mkwargs)\n",
      "File \u001b[1;32m~\\AppData\\Local\\anaconda3\\envs\\gee\\Lib\\site-packages\\googleapiclient\\http.py:938\u001b[0m, in \u001b[0;36mHttpRequest.execute\u001b[1;34m(self, http, num_retries)\u001b[0m\n\u001b[0;32m    937\u001b[0m \u001b[38;5;28;01mif\u001b[39;00m resp\u001b[38;5;241m.\u001b[39mstatus \u001b[38;5;241m>\u001b[39m\u001b[38;5;241m=\u001b[39m \u001b[38;5;241m300\u001b[39m:\n\u001b[1;32m--> 938\u001b[0m     \u001b[38;5;28;01mraise\u001b[39;00m HttpError(resp, content, uri\u001b[38;5;241m=\u001b[39m\u001b[38;5;28mself\u001b[39m\u001b[38;5;241m.\u001b[39muri)\n\u001b[0;32m    939\u001b[0m \u001b[38;5;28;01mreturn\u001b[39;00m \u001b[38;5;28mself\u001b[39m\u001b[38;5;241m.\u001b[39mpostproc(resp, content)\n",
      "\u001b[1;31mHttpError\u001b[0m: <HttpError 400 when requesting https://earthengine.googleapis.com/v1/projects/696878805927/value:compute?prettyPrint=false&alt=json returned \"Computation timed out.\". Details: \"Computation timed out.\">",
      "\nDuring handling of the above exception, another exception occurred:\n",
      "\u001b[1;31mEEException\u001b[0m                               Traceback (most recent call last)",
      "Cell \u001b[1;32mIn[10], line 9\u001b[0m\n\u001b[0;32m      7\u001b[0m \u001b[38;5;28;01mfor\u001b[39;00m i \u001b[38;5;129;01min\u001b[39;00m \u001b[38;5;28mrange\u001b[39m(\u001b[38;5;28mlen\u001b[39m(date_lists)):\n\u001b[0;32m      8\u001b[0m     S2_collection \u001b[38;5;241m=\u001b[39m ee\u001b[38;5;241m.\u001b[39mImageCollection(\u001b[38;5;124m\"\u001b[39m\u001b[38;5;124mCOPERNICUS/S2_SR_HARMONIZED\u001b[39m\u001b[38;5;124m\"\u001b[39m)\n\u001b[1;32m----> 9\u001b[0m     S2_filtered \u001b[38;5;241m=\u001b[39m S2_collection\u001b[38;5;241m.\u001b[39mfilter(orbit_filter(i))\u001b[38;5;241m.\u001b[39mfilterBounds(buffered_regions[i])\u001b[38;5;241m.\u001b[39mfilter(date_filter(i))\n\u001b[0;32m     10\u001b[0m     S2_image \u001b[38;5;241m=\u001b[39m S2_filtered\u001b[38;5;241m.\u001b[39msort(\u001b[38;5;124m\"\u001b[39m\u001b[38;5;124mCLOUD_COVERAGE_ASSESSMENT\u001b[39m\u001b[38;5;124m\"\u001b[39m, \u001b[38;5;28;01mFalse\u001b[39;00m)\u001b[38;5;241m.\u001b[39mmosaic()\n\u001b[0;32m     11\u001b[0m     image_list\u001b[38;5;241m.\u001b[39mappend(S2_image\u001b[38;5;241m.\u001b[39mclip(buffered_region[i]))\n",
      "Cell \u001b[1;32mIn[8], line 8\u001b[0m, in \u001b[0;36morbit_filter\u001b[1;34m(i)\u001b[0m\n\u001b[0;32m      5\u001b[0m region \u001b[38;5;241m=\u001b[39m buffered_regions[i]\n\u001b[0;32m      6\u001b[0m s2_collection \u001b[38;5;241m=\u001b[39m ee\u001b[38;5;241m.\u001b[39mImageCollection(\u001b[38;5;124m\"\u001b[39m\u001b[38;5;124mCOPERNICUS/S2_SR_HARMONIZED\u001b[39m\u001b[38;5;124m\"\u001b[39m)\u001b[38;5;241m.\u001b[39mfilterBounds(region)\n\u001b[1;32m----> 8\u001b[0m orbits \u001b[38;5;241m=\u001b[39m s2_collection\u001b[38;5;241m.\u001b[39maggregate_histogram(\u001b[38;5;124m\"\u001b[39m\u001b[38;5;124mSENSING_ORBIT_NUMBER\u001b[39m\u001b[38;5;124m\"\u001b[39m)\u001b[38;5;241m.\u001b[39mgetInfo()\n\u001b[0;32m      9\u001b[0m orbit_numbers \u001b[38;5;241m=\u001b[39m \u001b[38;5;28mlist\u001b[39m(\u001b[38;5;28mmap\u001b[39m(\u001b[38;5;28mfloat\u001b[39m, orbits))\n\u001b[0;32m     10\u001b[0m orbit_list \u001b[38;5;241m=\u001b[39m \u001b[38;5;28mlist\u001b[39m(\u001b[38;5;28mmap\u001b[39m(\u001b[38;5;28mint\u001b[39m, orbit_numbers))\n",
      "File \u001b[1;32m~\\AppData\\Local\\anaconda3\\envs\\gee\\Lib\\site-packages\\ee\\computedobject.py:107\u001b[0m, in \u001b[0;36mComputedObject.getInfo\u001b[1;34m(self)\u001b[0m\n\u001b[0;32m    101\u001b[0m \u001b[38;5;28;01mdef\u001b[39;00m \u001b[38;5;21mgetInfo\u001b[39m(\u001b[38;5;28mself\u001b[39m) \u001b[38;5;241m-\u001b[39m\u001b[38;5;241m>\u001b[39m Optional[Any]:\n\u001b[0;32m    102\u001b[0m \u001b[38;5;250m  \u001b[39m\u001b[38;5;124;03m\"\"\"Fetch and return information about this object.\u001b[39;00m\n\u001b[0;32m    103\u001b[0m \n\u001b[0;32m    104\u001b[0m \u001b[38;5;124;03m  Returns:\u001b[39;00m\n\u001b[0;32m    105\u001b[0m \u001b[38;5;124;03m    The object can evaluate to anything.\u001b[39;00m\n\u001b[0;32m    106\u001b[0m \u001b[38;5;124;03m  \"\"\"\u001b[39;00m\n\u001b[1;32m--> 107\u001b[0m   \u001b[38;5;28;01mreturn\u001b[39;00m data\u001b[38;5;241m.\u001b[39mcomputeValue(\u001b[38;5;28mself\u001b[39m)\n",
      "File \u001b[1;32m~\\AppData\\Local\\anaconda3\\envs\\gee\\Lib\\site-packages\\ee\\data.py:1128\u001b[0m, in \u001b[0;36mcomputeValue\u001b[1;34m(obj)\u001b[0m\n\u001b[0;32m   1125\u001b[0m body \u001b[38;5;241m=\u001b[39m {\u001b[38;5;124m'\u001b[39m\u001b[38;5;124mexpression\u001b[39m\u001b[38;5;124m'\u001b[39m: serializer\u001b[38;5;241m.\u001b[39mencode(obj, for_cloud_api\u001b[38;5;241m=\u001b[39m\u001b[38;5;28;01mTrue\u001b[39;00m)}\n\u001b[0;32m   1126\u001b[0m _maybe_populate_workload_tag(body)\n\u001b[1;32m-> 1128\u001b[0m \u001b[38;5;28;01mreturn\u001b[39;00m _execute_cloud_call(\n\u001b[0;32m   1129\u001b[0m     _get_cloud_projects()\n\u001b[0;32m   1130\u001b[0m     \u001b[38;5;241m.\u001b[39mvalue()\n\u001b[0;32m   1131\u001b[0m     \u001b[38;5;241m.\u001b[39mcompute(body\u001b[38;5;241m=\u001b[39mbody, project\u001b[38;5;241m=\u001b[39m_get_projects_path(), prettyPrint\u001b[38;5;241m=\u001b[39m\u001b[38;5;28;01mFalse\u001b[39;00m)\n\u001b[0;32m   1132\u001b[0m )[\u001b[38;5;124m'\u001b[39m\u001b[38;5;124mresult\u001b[39m\u001b[38;5;124m'\u001b[39m]\n",
      "File \u001b[1;32m~\\AppData\\Local\\anaconda3\\envs\\gee\\Lib\\site-packages\\ee\\data.py:410\u001b[0m, in \u001b[0;36m_execute_cloud_call\u001b[1;34m(call, num_retries)\u001b[0m\n\u001b[0;32m    408\u001b[0m   \u001b[38;5;28;01mreturn\u001b[39;00m call\u001b[38;5;241m.\u001b[39mexecute(num_retries\u001b[38;5;241m=\u001b[39mnum_retries)\n\u001b[0;32m    409\u001b[0m \u001b[38;5;28;01mexcept\u001b[39;00m googleapiclient\u001b[38;5;241m.\u001b[39merrors\u001b[38;5;241m.\u001b[39mHttpError \u001b[38;5;28;01mas\u001b[39;00m e:\n\u001b[1;32m--> 410\u001b[0m   \u001b[38;5;28;01mraise\u001b[39;00m _translate_cloud_exception(e)\n",
      "\u001b[1;31mEEException\u001b[0m: Computation timed out."
     ]
    }
   ],
   "source": [
    "### CHOOSE IMAGES ###\n",
    "\n",
    "trueColour = {'bands': [\"B4\", \"B3\", \"B2\"],'min': 0,'max': 2500}\n",
    "\n",
    "image_list = []\n",
    "\n",
    "for i in range(len(date_lists)):\n",
    "    S2_collection = ee.ImageCollection(\"COPERNICUS/S2_SR_HARMONIZED\")\n",
    "    S2_filtered = S2_collection.filter(orbit_filter(i)).filterBounds(buffered_regions[i]).filter(date_filter(i))\n",
    "    S2_image = S2_filtered.sort(\"CLOUD_COVERAGE_ASSESSMENT\", False).mosaic()\n",
    "    image_list.append(S2_image.clip(buffered_region[i]))\n",
    "\n",
    "Map.setCenter(-129,51.5, 6)"
   ]
  },
  {
   "cell_type": "code",
   "execution_count": 11,
   "id": "7719b96a-a10f-46a7-b0db-5320b8c4f753",
   "metadata": {},
   "outputs": [
    {
     "data": {
      "text/html": [
       "\n",
       "            <style>\n",
       "                .geemap-dark {\n",
       "                    --jp-widgets-color: white;\n",
       "                    --jp-widgets-label-color: white;\n",
       "                    --jp-ui-font-color1: white;\n",
       "                    --jp-layout-color2: #454545;\n",
       "                    background-color: #383838;\n",
       "                }\n",
       "\n",
       "                .geemap-dark .jupyter-button {\n",
       "                    --jp-layout-color3: #383838;\n",
       "                }\n",
       "\n",
       "                .geemap-colab {\n",
       "                    background-color: var(--colab-primary-surface-color, white);\n",
       "                }\n",
       "\n",
       "                .geemap-colab .jupyter-button {\n",
       "                    --jp-layout-color3: var(--colab-primary-surface-color, white);\n",
       "                }\n",
       "            </style>\n",
       "            "
      ],
      "text/plain": [
       "<IPython.core.display.HTML object>"
      ]
     },
     "metadata": {},
     "output_type": "display_data"
    },
    {
     "ename": "EEException",
     "evalue": "Computation timed out.",
     "output_type": "error",
     "traceback": [
      "\u001b[1;31m---------------------------------------------------------------------------\u001b[0m",
      "\u001b[1;31mHttpError\u001b[0m                                 Traceback (most recent call last)",
      "File \u001b[1;32m~\\AppData\\Local\\anaconda3\\envs\\gee\\Lib\\site-packages\\ee\\data.py:408\u001b[0m, in \u001b[0;36m_execute_cloud_call\u001b[1;34m(call, num_retries)\u001b[0m\n\u001b[0;32m    407\u001b[0m \u001b[38;5;28;01mtry\u001b[39;00m:\n\u001b[1;32m--> 408\u001b[0m   \u001b[38;5;28;01mreturn\u001b[39;00m call\u001b[38;5;241m.\u001b[39mexecute(num_retries\u001b[38;5;241m=\u001b[39mnum_retries)\n\u001b[0;32m    409\u001b[0m \u001b[38;5;28;01mexcept\u001b[39;00m googleapiclient\u001b[38;5;241m.\u001b[39merrors\u001b[38;5;241m.\u001b[39mHttpError \u001b[38;5;28;01mas\u001b[39;00m e:\n",
      "File \u001b[1;32m~\\AppData\\Local\\anaconda3\\envs\\gee\\Lib\\site-packages\\googleapiclient\\_helpers.py:130\u001b[0m, in \u001b[0;36mpositional.<locals>.positional_decorator.<locals>.positional_wrapper\u001b[1;34m(*args, **kwargs)\u001b[0m\n\u001b[0;32m    129\u001b[0m         logger\u001b[38;5;241m.\u001b[39mwarning(message)\n\u001b[1;32m--> 130\u001b[0m \u001b[38;5;28;01mreturn\u001b[39;00m wrapped(\u001b[38;5;241m*\u001b[39margs, \u001b[38;5;241m*\u001b[39m\u001b[38;5;241m*\u001b[39mkwargs)\n",
      "File \u001b[1;32m~\\AppData\\Local\\anaconda3\\envs\\gee\\Lib\\site-packages\\googleapiclient\\http.py:938\u001b[0m, in \u001b[0;36mHttpRequest.execute\u001b[1;34m(self, http, num_retries)\u001b[0m\n\u001b[0;32m    937\u001b[0m \u001b[38;5;28;01mif\u001b[39;00m resp\u001b[38;5;241m.\u001b[39mstatus \u001b[38;5;241m>\u001b[39m\u001b[38;5;241m=\u001b[39m \u001b[38;5;241m300\u001b[39m:\n\u001b[1;32m--> 938\u001b[0m     \u001b[38;5;28;01mraise\u001b[39;00m HttpError(resp, content, uri\u001b[38;5;241m=\u001b[39m\u001b[38;5;28mself\u001b[39m\u001b[38;5;241m.\u001b[39muri)\n\u001b[0;32m    939\u001b[0m \u001b[38;5;28;01mreturn\u001b[39;00m \u001b[38;5;28mself\u001b[39m\u001b[38;5;241m.\u001b[39mpostproc(resp, content)\n",
      "\u001b[1;31mHttpError\u001b[0m: <HttpError 400 when requesting https://earthengine.googleapis.com/v1/projects/696878805927/value:compute?prettyPrint=false&alt=json returned \"Computation timed out.\". Details: \"Computation timed out.\">",
      "\nDuring handling of the above exception, another exception occurred:\n",
      "\u001b[1;31mEEException\u001b[0m                               Traceback (most recent call last)",
      "Cell \u001b[1;32mIn[11], line 31\u001b[0m\n\u001b[0;32m     28\u001b[0m     \u001b[38;5;28;01mreturn\u001b[39;00m S2_image\u001b[38;5;241m.\u001b[39mclip(feat\u001b[38;5;241m.\u001b[39mgeometry())\u001b[38;5;241m.\u001b[39mset(\u001b[38;5;124m\"\u001b[39m\u001b[38;5;124mindex\u001b[39m\u001b[38;5;124m\"\u001b[39m, i)\n\u001b[0;32m     30\u001b[0m buffered_fc \u001b[38;5;241m=\u001b[39m ee\u001b[38;5;241m.\u001b[39mFeatureCollection([ee\u001b[38;5;241m.\u001b[39mFeature(region, {\u001b[38;5;124m\"\u001b[39m\u001b[38;5;124mindex\u001b[39m\u001b[38;5;124m\"\u001b[39m: i}) \u001b[38;5;28;01mfor\u001b[39;00m i, region \u001b[38;5;129;01min\u001b[39;00m \u001b[38;5;28menumerate\u001b[39m(buffered_regions)])\n\u001b[1;32m---> 31\u001b[0m processed_images \u001b[38;5;241m=\u001b[39m [process_region(i) \u001b[38;5;28;01mfor\u001b[39;00m i \u001b[38;5;129;01min\u001b[39;00m \u001b[38;5;28mrange\u001b[39m(\u001b[38;5;28mlen\u001b[39m(buffered_regions))]\n",
      "Cell \u001b[1;32mIn[11], line 22\u001b[0m, in \u001b[0;36mprocess_region\u001b[1;34m(i)\u001b[0m\n\u001b[0;32m     19\u001b[0m feat \u001b[38;5;241m=\u001b[39m buffered_fc\u001b[38;5;241m.\u001b[39mfilter(ee\u001b[38;5;241m.\u001b[39mFilter\u001b[38;5;241m.\u001b[39meq(\u001b[38;5;124m\"\u001b[39m\u001b[38;5;124mindex\u001b[39m\u001b[38;5;124m\"\u001b[39m, i))\u001b[38;5;241m.\u001b[39mfirst() \n\u001b[0;32m     20\u001b[0m S2_collection \u001b[38;5;241m=\u001b[39m ee\u001b[38;5;241m.\u001b[39mImageCollection(\u001b[38;5;124m\"\u001b[39m\u001b[38;5;124mCOPERNICUS/S2_SR_HARMONIZED\u001b[39m\u001b[38;5;124m\"\u001b[39m)\n\u001b[0;32m     21\u001b[0m S2_filtered \u001b[38;5;241m=\u001b[39m (S2_collection\n\u001b[1;32m---> 22\u001b[0m                \u001b[38;5;241m.\u001b[39mfilter(orbit_filter(i))\n\u001b[0;32m     23\u001b[0m                \u001b[38;5;241m.\u001b[39mfilterBounds(feat\u001b[38;5;241m.\u001b[39mgeometry())\n\u001b[0;32m     24\u001b[0m                \u001b[38;5;241m.\u001b[39mfilter(date_filter(i)))\n\u001b[0;32m     26\u001b[0m S2_image \u001b[38;5;241m=\u001b[39m S2_filtered\u001b[38;5;241m.\u001b[39msort(\u001b[38;5;124m\"\u001b[39m\u001b[38;5;124mCLOUD_COVERAGE_ASSESSMENT\u001b[39m\u001b[38;5;124m\"\u001b[39m, \u001b[38;5;28;01mFalse\u001b[39;00m)\u001b[38;5;241m.\u001b[39mmosaic()\n\u001b[0;32m     28\u001b[0m \u001b[38;5;28;01mreturn\u001b[39;00m S2_image\u001b[38;5;241m.\u001b[39mclip(feat\u001b[38;5;241m.\u001b[39mgeometry())\u001b[38;5;241m.\u001b[39mset(\u001b[38;5;124m\"\u001b[39m\u001b[38;5;124mindex\u001b[39m\u001b[38;5;124m\"\u001b[39m, i)\n",
      "Cell \u001b[1;32mIn[8], line 8\u001b[0m, in \u001b[0;36morbit_filter\u001b[1;34m(i)\u001b[0m\n\u001b[0;32m      5\u001b[0m region \u001b[38;5;241m=\u001b[39m buffered_regions[i]\n\u001b[0;32m      6\u001b[0m s2_collection \u001b[38;5;241m=\u001b[39m ee\u001b[38;5;241m.\u001b[39mImageCollection(\u001b[38;5;124m\"\u001b[39m\u001b[38;5;124mCOPERNICUS/S2_SR_HARMONIZED\u001b[39m\u001b[38;5;124m\"\u001b[39m)\u001b[38;5;241m.\u001b[39mfilterBounds(region)\n\u001b[1;32m----> 8\u001b[0m orbits \u001b[38;5;241m=\u001b[39m s2_collection\u001b[38;5;241m.\u001b[39maggregate_histogram(\u001b[38;5;124m\"\u001b[39m\u001b[38;5;124mSENSING_ORBIT_NUMBER\u001b[39m\u001b[38;5;124m\"\u001b[39m)\u001b[38;5;241m.\u001b[39mgetInfo()\n\u001b[0;32m      9\u001b[0m orbit_numbers \u001b[38;5;241m=\u001b[39m \u001b[38;5;28mlist\u001b[39m(\u001b[38;5;28mmap\u001b[39m(\u001b[38;5;28mfloat\u001b[39m, orbits))\n\u001b[0;32m     10\u001b[0m orbit_list \u001b[38;5;241m=\u001b[39m \u001b[38;5;28mlist\u001b[39m(\u001b[38;5;28mmap\u001b[39m(\u001b[38;5;28mint\u001b[39m, orbit_numbers))\n",
      "File \u001b[1;32m~\\AppData\\Local\\anaconda3\\envs\\gee\\Lib\\site-packages\\ee\\computedobject.py:107\u001b[0m, in \u001b[0;36mComputedObject.getInfo\u001b[1;34m(self)\u001b[0m\n\u001b[0;32m    101\u001b[0m \u001b[38;5;28;01mdef\u001b[39;00m \u001b[38;5;21mgetInfo\u001b[39m(\u001b[38;5;28mself\u001b[39m) \u001b[38;5;241m-\u001b[39m\u001b[38;5;241m>\u001b[39m Optional[Any]:\n\u001b[0;32m    102\u001b[0m \u001b[38;5;250m  \u001b[39m\u001b[38;5;124;03m\"\"\"Fetch and return information about this object.\u001b[39;00m\n\u001b[0;32m    103\u001b[0m \n\u001b[0;32m    104\u001b[0m \u001b[38;5;124;03m  Returns:\u001b[39;00m\n\u001b[0;32m    105\u001b[0m \u001b[38;5;124;03m    The object can evaluate to anything.\u001b[39;00m\n\u001b[0;32m    106\u001b[0m \u001b[38;5;124;03m  \"\"\"\u001b[39;00m\n\u001b[1;32m--> 107\u001b[0m   \u001b[38;5;28;01mreturn\u001b[39;00m data\u001b[38;5;241m.\u001b[39mcomputeValue(\u001b[38;5;28mself\u001b[39m)\n",
      "File \u001b[1;32m~\\AppData\\Local\\anaconda3\\envs\\gee\\Lib\\site-packages\\ee\\data.py:1128\u001b[0m, in \u001b[0;36mcomputeValue\u001b[1;34m(obj)\u001b[0m\n\u001b[0;32m   1125\u001b[0m body \u001b[38;5;241m=\u001b[39m {\u001b[38;5;124m'\u001b[39m\u001b[38;5;124mexpression\u001b[39m\u001b[38;5;124m'\u001b[39m: serializer\u001b[38;5;241m.\u001b[39mencode(obj, for_cloud_api\u001b[38;5;241m=\u001b[39m\u001b[38;5;28;01mTrue\u001b[39;00m)}\n\u001b[0;32m   1126\u001b[0m _maybe_populate_workload_tag(body)\n\u001b[1;32m-> 1128\u001b[0m \u001b[38;5;28;01mreturn\u001b[39;00m _execute_cloud_call(\n\u001b[0;32m   1129\u001b[0m     _get_cloud_projects()\n\u001b[0;32m   1130\u001b[0m     \u001b[38;5;241m.\u001b[39mvalue()\n\u001b[0;32m   1131\u001b[0m     \u001b[38;5;241m.\u001b[39mcompute(body\u001b[38;5;241m=\u001b[39mbody, project\u001b[38;5;241m=\u001b[39m_get_projects_path(), prettyPrint\u001b[38;5;241m=\u001b[39m\u001b[38;5;28;01mFalse\u001b[39;00m)\n\u001b[0;32m   1132\u001b[0m )[\u001b[38;5;124m'\u001b[39m\u001b[38;5;124mresult\u001b[39m\u001b[38;5;124m'\u001b[39m]\n",
      "File \u001b[1;32m~\\AppData\\Local\\anaconda3\\envs\\gee\\Lib\\site-packages\\ee\\data.py:410\u001b[0m, in \u001b[0;36m_execute_cloud_call\u001b[1;34m(call, num_retries)\u001b[0m\n\u001b[0;32m    408\u001b[0m   \u001b[38;5;28;01mreturn\u001b[39;00m call\u001b[38;5;241m.\u001b[39mexecute(num_retries\u001b[38;5;241m=\u001b[39mnum_retries)\n\u001b[0;32m    409\u001b[0m \u001b[38;5;28;01mexcept\u001b[39;00m googleapiclient\u001b[38;5;241m.\u001b[39merrors\u001b[38;5;241m.\u001b[39mHttpError \u001b[38;5;28;01mas\u001b[39;00m e:\n\u001b[1;32m--> 410\u001b[0m   \u001b[38;5;28;01mraise\u001b[39;00m _translate_cloud_exception(e)\n",
      "\u001b[1;31mEEException\u001b[0m: Computation timed out."
     ]
    }
   ],
   "source": [
    "### TRYING TO BE MORE EFFICIENT ###\n",
    "\n",
    "def create_mosaic(i):\n",
    "    S2_collection = ee.ImageCollection(\"COPERNICUS/S2_SR_HARMONIZED\")\n",
    "    S2_filtered = (S2_collection\n",
    "                   .filter(orbit_filter(i))\n",
    "                   .filterBounds(buffered_regions[i])\n",
    "                   .filter(date_filter(i)))\n",
    "    \n",
    "    S2_image = S2_filtered.sort(\"CLOUD_COVERAGE_ASSESSMENT\", False).mosaic()\n",
    "    \n",
    "    return S2_image.clip(buffered_regions[i]).set(\"index\", i)\n",
    "\n",
    "image_collection = ee.ImageCollection([create_mosaic(i) for i in range(len(date_lists))])\n",
    "\n",
    "\n",
    "\n",
    "def process_region(i):\n",
    "    feat = buffered_fc.filter(ee.Filter.eq(\"index\", i)).first() \n",
    "    S2_collection = ee.ImageCollection(\"COPERNICUS/S2_SR_HARMONIZED\")\n",
    "    S2_filtered = (S2_collection\n",
    "                   .filter(orbit_filter(i))\n",
    "                   .filterBounds(feat.geometry())\n",
    "                   .filter(date_filter(i)))\n",
    "    \n",
    "    S2_image = S2_filtered.sort(\"CLOUD_COVERAGE_ASSESSMENT\", False).mosaic()\n",
    "    \n",
    "    return S2_image.clip(feat.geometry()).set(\"index\", i)\n",
    "\n",
    "buffered_fc = ee.FeatureCollection([ee.Feature(region, {\"index\": i}) for i, region in enumerate(buffered_regions)])\n",
    "processed_images = [process_region(i) for i in range(len(buffered_regions))]"
   ]
  },
  {
   "cell_type": "code",
   "execution_count": null,
   "id": "a211b270-2104-4aff-933b-7299df3a5645",
   "metadata": {},
   "outputs": [
    {
     "data": {
      "text/html": [
       "\n",
       "            <style>\n",
       "                .geemap-dark {\n",
       "                    --jp-widgets-color: white;\n",
       "                    --jp-widgets-label-color: white;\n",
       "                    --jp-ui-font-color1: white;\n",
       "                    --jp-layout-color2: #454545;\n",
       "                    background-color: #383838;\n",
       "                }\n",
       "\n",
       "                .geemap-dark .jupyter-button {\n",
       "                    --jp-layout-color3: #383838;\n",
       "                }\n",
       "\n",
       "                .geemap-colab {\n",
       "                    background-color: var(--colab-primary-surface-color, white);\n",
       "                }\n",
       "\n",
       "                .geemap-colab .jupyter-button {\n",
       "                    --jp-layout-color3: var(--colab-primary-surface-color, white);\n",
       "                }\n",
       "            </style>\n",
       "            "
      ],
      "text/plain": [
       "<IPython.core.display.HTML object>"
      ]
     },
     "metadata": {},
     "output_type": "display_data"
    }
   ],
   "source": [
    "### EXPORT ###\n",
    "\n",
    "for i in range(len(date_lists)):\n",
    "    roi = buffered_regions[i]\n",
    "    S2_collection = ee.ImageCollection(\"COPERNICUS/S2_SR_HARMONIZED\")\n",
    "    S2_filtered = S2_collection.filter(orbit_filter(i)).filterBounds(roi).filter(date_filter(i))\n",
    "    S2_image = S2_filtered.sort(\"CLOUD_COVERAGE_ASSESSMENT\", False).mosaic()\n",
    "\n",
    "    export_task = ee.batch.Export.image.toAsset(\n",
    "        image=S2_image,\n",
    "        description=f\"region_{i}\",\n",
    "        assetId=f'projects/<GEOG228_Lab6>/assets/<region_{i}>',\n",
    "        region=roi,\n",
    "        scale=10,\n",
    "        crs=\"EPSG:4326\",\n",
    "        maxPixels=1e13\n",
    "    )\n",
    "    export_task.start()"
   ]
  },
  {
   "cell_type": "code",
   "execution_count": 58,
   "id": "758cd235-4d1f-49fa-b96c-644c1bb2a016",
   "metadata": {},
   "outputs": [
    {
     "data": {
      "text/html": [
       "\n",
       "            <style>\n",
       "                .geemap-dark {\n",
       "                    --jp-widgets-color: white;\n",
       "                    --jp-widgets-label-color: white;\n",
       "                    --jp-ui-font-color1: white;\n",
       "                    --jp-layout-color2: #454545;\n",
       "                    background-color: #383838;\n",
       "                }\n",
       "\n",
       "                .geemap-dark .jupyter-button {\n",
       "                    --jp-layout-color3: #383838;\n",
       "                }\n",
       "\n",
       "                .geemap-colab {\n",
       "                    background-color: var(--colab-primary-surface-color, white);\n",
       "                }\n",
       "\n",
       "                .geemap-colab .jupyter-button {\n",
       "                    --jp-layout-color3: var(--colab-primary-surface-color, white);\n",
       "                }\n",
       "            </style>\n",
       "            "
      ],
      "text/plain": [
       "<IPython.core.display.HTML object>"
      ]
     },
     "metadata": {},
     "output_type": "display_data"
    }
   ],
   "source": [
    "### MANUAL TRAINING CLASSIFICATION TEST ###\n",
    "\n",
    "vegetation = ee.FeatureCollection(\"projects/ee-flickandzed/assets/vicvegetation\")\n",
    "water = ee.FeatureCollection(\"projects/ee-flickandzed/assets/vicwater\")\n",
    "infrastructure = ee.FeatureCollection(\"projects/ee-flickandzed/assets/vicinfrastructure\")\n",
    "bareground = ee.FeatureCollection(\"projects/ee-flickandzed/assets/vicbareground\")\n",
    "\n",
    "sub_S2 = S2_image.clip(roi)\n",
    "\n",
    "newfc = water.merge(infrastructure).merge(vegetation).merge(bareground)\n",
    "bands = ['B2', 'B3', 'B4', 'B8', 'B8A', 'B11', 'B12']\n",
    "\n",
    "training = sub_S2.select(bands).sampleRegions(newfc, ['landcover'], 10)\n",
    "\n",
    "classifier = ee.Classifier.smileRandomForest(150).train(training, 'landcover', bands)\n",
    "\n",
    "classified = sub_S2.select(bands).classify(classifier)\n",
    "\n",
    "dict = {\"names\": [\"vegetation\", \"water\", \"infrastructure\", \"bareground\"], \"colours\": [\"#29d62c\", \"#5d52ff\", \"#d6d6d6\", \"#e6d53a\"]}\n",
    "Map.addLayer(classified, {'min': 0, 'max': 3, 'palette': dict['colours']}, \"manual classification\")\n",
    "\n",
    "Map.setCenter(-123.3445771370641,48.43336760370573, 11)\n",
    "# Map"
   ]
  },
  {
   "cell_type": "code",
   "execution_count": 12,
   "id": "ca4dfb32-095b-472b-93d4-f4bc96b34538",
   "metadata": {},
   "outputs": [
    {
     "data": {
      "text/html": [
       "\n",
       "            <style>\n",
       "                .geemap-dark {\n",
       "                    --jp-widgets-color: white;\n",
       "                    --jp-widgets-label-color: white;\n",
       "                    --jp-ui-font-color1: white;\n",
       "                    --jp-layout-color2: #454545;\n",
       "                    background-color: #383838;\n",
       "                }\n",
       "\n",
       "                .geemap-dark .jupyter-button {\n",
       "                    --jp-layout-color3: #383838;\n",
       "                }\n",
       "\n",
       "                .geemap-colab {\n",
       "                    background-color: var(--colab-primary-surface-color, white);\n",
       "                }\n",
       "\n",
       "                .geemap-colab .jupyter-button {\n",
       "                    --jp-layout-color3: var(--colab-primary-surface-color, white);\n",
       "                }\n",
       "            </style>\n",
       "            "
      ],
      "text/plain": [
       "<IPython.core.display.HTML object>"
      ]
     },
     "metadata": {},
     "output_type": "display_data"
    }
   ],
   "source": [
    "### OTHER LANDCOVER DATASETS FROM GEE ###\n",
    "\n",
    "nlcd = ee.Image(\"USGS/NLCD/NLCD2016\").select(\"landcover\").clip(S2_image.geometry())\n",
    "dw = ee.ImageCollection('GOOGLE/DYNAMICWORLD/V1').filterDate('2024-01-01', '2024-12-31')\n",
    "nlcd30m = ee.Image('USGS/NLCD_RELEASES/2020_REL/NALCMS').select(\"landcover\").clip(S2_image.geometry())\n",
    "Map.addLayer(nlcd, {}, \"NLCD\")\n",
    "Map.addLayer(dw, {}, \"DW\")\n",
    "Map.addLayer(nlcd30m, {}, \"NLCD30M\")\n",
    "\n",
    "Map.setCenter(-123.3445771370641,48.43336760370573, 11)\n",
    "# Map"
   ]
  },
  {
   "cell_type": "code",
   "execution_count": 13,
   "id": "dc09e44b-8406-4353-bd36-4554561b926e",
   "metadata": {},
   "outputs": [
    {
     "data": {
      "text/html": [
       "\n",
       "            <style>\n",
       "                .geemap-dark {\n",
       "                    --jp-widgets-color: white;\n",
       "                    --jp-widgets-label-color: white;\n",
       "                    --jp-ui-font-color1: white;\n",
       "                    --jp-layout-color2: #454545;\n",
       "                    background-color: #383838;\n",
       "                }\n",
       "\n",
       "                .geemap-dark .jupyter-button {\n",
       "                    --jp-layout-color3: #383838;\n",
       "                }\n",
       "\n",
       "                .geemap-colab {\n",
       "                    background-color: var(--colab-primary-surface-color, white);\n",
       "                }\n",
       "\n",
       "                .geemap-colab .jupyter-button {\n",
       "                    --jp-layout-color3: var(--colab-primary-surface-color, white);\n",
       "                }\n",
       "            </style>\n",
       "            "
      ],
      "text/plain": [
       "<IPython.core.display.HTML object>"
      ]
     },
     "metadata": {},
     "output_type": "display_data"
    }
   ],
   "source": [
    "### SPECTRAL INDICES ###\n",
    "\n",
    "def add_indices(image):\n",
    "    ndvi = image.normalizedDifference(['B8', 'B4']).rename('ndvi')\n",
    "    ndbi = image.normalizedDifference(['B11', 'B8']).rename('ndbi')\n",
    "    mndwi = image.normalizedDifference(['B3', 'B11']).rename('mndwi')\n",
    "    bsi = image.expression(\n",
    "        '((X + Y) - (A + B)) / ((X + Y) + (A + B))', {\n",
    "            'X': image.select('B11'),  # swir1\n",
    "            'Y': image.select('B4'),   # red\n",
    "            'A': image.select('B8'),   # nir\n",
    "            'B': image.select('B2')    # blue\n",
    "        }).rename('bsi')\n",
    "    return image.addBands([ndvi, ndbi, mndwi, bsi])\n",
    "\n",
    "image_with_indices = add_indices(S2_image)\n",
    "\n",
    "Map.addLayer(image_with_indices.clip(roi), trueColour, 'Image With Indices')\n",
    "\n",
    "Map.setCenter(-123.3445771370641,48.43336760370573, 11)"
   ]
  },
  {
   "cell_type": "code",
   "execution_count": 14,
   "id": "274a60a8-3a16-4492-9839-8172cd6308a6",
   "metadata": {},
   "outputs": [
    {
     "data": {
      "text/html": [
       "\n",
       "            <style>\n",
       "                .geemap-dark {\n",
       "                    --jp-widgets-color: white;\n",
       "                    --jp-widgets-label-color: white;\n",
       "                    --jp-ui-font-color1: white;\n",
       "                    --jp-layout-color2: #454545;\n",
       "                    background-color: #383838;\n",
       "                }\n",
       "\n",
       "                .geemap-dark .jupyter-button {\n",
       "                    --jp-layout-color3: #383838;\n",
       "                }\n",
       "\n",
       "                .geemap-colab {\n",
       "                    background-color: var(--colab-primary-surface-color, white);\n",
       "                }\n",
       "\n",
       "                .geemap-colab .jupyter-button {\n",
       "                    --jp-layout-color3: var(--colab-primary-surface-color, white);\n",
       "                }\n",
       "            </style>\n",
       "            "
      ],
      "text/plain": [
       "<IPython.core.display.HTML object>"
      ]
     },
     "metadata": {},
     "output_type": "display_data"
    }
   ],
   "source": [
    "### CEC’s North American Land Change Monitoring System (NALCMS) ###\n",
    "\n",
    "# find the colour palette and order of classes\n",
    "\n",
    "lc = ee.Image(\"projects/ee-flickandzed/assets/landcover-2020-classification\")\n",
    "dict = {\"names\": [\"a\", \"b\", \"c\", \"d\", \"e\", \"f\", \"g\", \"h\", \"i\", \"j\", \"k\", \"l\", \"m\", \"n\"], \"colours\": [\"#d60000\", \"#d6a300\", \"#6ad600\", \"#42d600\", \"#00d653\", \"#00d6c0\", \"#00bad6\", \"#001bd6\", \"#d400d6\", \"#7100d6\", \"#d6009c\", \"#d67760\", \"#55d651\", \"#7f6fd6\", \"#d68eb2\"]}\n",
    "Map.addLayer(lc, {'min': 0, 'max': 14, 'palette': dict['colours']}, \"NALCMS classification\")"
   ]
  },
  {
   "cell_type": "code",
   "execution_count": 66,
   "id": "0e8ca0cf-83d4-454a-b3fd-e058f8b5f29e",
   "metadata": {},
   "outputs": [
    {
     "data": {
      "text/html": [
       "\n",
       "            <style>\n",
       "                .geemap-dark {\n",
       "                    --jp-widgets-color: white;\n",
       "                    --jp-widgets-label-color: white;\n",
       "                    --jp-ui-font-color1: white;\n",
       "                    --jp-layout-color2: #454545;\n",
       "                    background-color: #383838;\n",
       "                }\n",
       "\n",
       "                .geemap-dark .jupyter-button {\n",
       "                    --jp-layout-color3: #383838;\n",
       "                }\n",
       "\n",
       "                .geemap-colab {\n",
       "                    background-color: var(--colab-primary-surface-color, white);\n",
       "                }\n",
       "\n",
       "                .geemap-colab .jupyter-button {\n",
       "                    --jp-layout-color3: var(--colab-primary-surface-color, white);\n",
       "                }\n",
       "            </style>\n",
       "            "
      ],
      "text/plain": [
       "<IPython.core.display.HTML object>"
      ]
     },
     "metadata": {},
     "output_type": "display_data"
    },
    {
     "ename": "EEException",
     "evalue": "Image.select: Band pattern 'water' did not match any bands. Available bands: [B1, B2, B3, B4, B5, B6, B7, B8, B8A, B9, B11, B12, AOT, WVP, SCL, TCI_R, TCI_G, TCI_B, MSK_CLDPRB, MSK_SNWPRB, QA10, QA20, QA60, MSK_CLASSI_OPAQUE, MSK_CLASSI_CIRRUS, MSK_CLASSI_SNOW_ICE]",
     "output_type": "error",
     "traceback": [
      "\u001b[1;31m---------------------------------------------------------------------------\u001b[0m",
      "\u001b[1;31mHttpError\u001b[0m                                 Traceback (most recent call last)",
      "File \u001b[1;32m~\\AppData\\Local\\anaconda3\\envs\\gee\\Lib\\site-packages\\ee\\data.py:408\u001b[0m, in \u001b[0;36m_execute_cloud_call\u001b[1;34m(call, num_retries)\u001b[0m\n\u001b[0;32m    407\u001b[0m \u001b[38;5;28;01mtry\u001b[39;00m:\n\u001b[1;32m--> 408\u001b[0m   \u001b[38;5;28;01mreturn\u001b[39;00m call\u001b[38;5;241m.\u001b[39mexecute(num_retries\u001b[38;5;241m=\u001b[39mnum_retries)\n\u001b[0;32m    409\u001b[0m \u001b[38;5;28;01mexcept\u001b[39;00m googleapiclient\u001b[38;5;241m.\u001b[39merrors\u001b[38;5;241m.\u001b[39mHttpError \u001b[38;5;28;01mas\u001b[39;00m e:\n",
      "File \u001b[1;32m~\\AppData\\Local\\anaconda3\\envs\\gee\\Lib\\site-packages\\googleapiclient\\_helpers.py:130\u001b[0m, in \u001b[0;36mpositional.<locals>.positional_decorator.<locals>.positional_wrapper\u001b[1;34m(*args, **kwargs)\u001b[0m\n\u001b[0;32m    129\u001b[0m         logger\u001b[38;5;241m.\u001b[39mwarning(message)\n\u001b[1;32m--> 130\u001b[0m \u001b[38;5;28;01mreturn\u001b[39;00m wrapped(\u001b[38;5;241m*\u001b[39margs, \u001b[38;5;241m*\u001b[39m\u001b[38;5;241m*\u001b[39mkwargs)\n",
      "File \u001b[1;32m~\\AppData\\Local\\anaconda3\\envs\\gee\\Lib\\site-packages\\googleapiclient\\http.py:938\u001b[0m, in \u001b[0;36mHttpRequest.execute\u001b[1;34m(self, http, num_retries)\u001b[0m\n\u001b[0;32m    937\u001b[0m \u001b[38;5;28;01mif\u001b[39;00m resp\u001b[38;5;241m.\u001b[39mstatus \u001b[38;5;241m>\u001b[39m\u001b[38;5;241m=\u001b[39m \u001b[38;5;241m300\u001b[39m:\n\u001b[1;32m--> 938\u001b[0m     \u001b[38;5;28;01mraise\u001b[39;00m HttpError(resp, content, uri\u001b[38;5;241m=\u001b[39m\u001b[38;5;28mself\u001b[39m\u001b[38;5;241m.\u001b[39muri)\n\u001b[0;32m    939\u001b[0m \u001b[38;5;28;01mreturn\u001b[39;00m \u001b[38;5;28mself\u001b[39m\u001b[38;5;241m.\u001b[39mpostproc(resp, content)\n",
      "\u001b[1;31mHttpError\u001b[0m: <HttpError 400 when requesting https://earthengine.googleapis.com/v1/projects/696878805927/maps?fields=name&alt=json returned \"Image.select: Band pattern 'water' did not match any bands. Available bands: [B1, B2, B3, B4, B5, B6, B7, B8, B8A, B9, B11, B12, AOT, WVP, SCL, TCI_R, TCI_G, TCI_B, MSK_CLDPRB, MSK_SNWPRB, QA10, QA20, QA60, MSK_CLASSI_OPAQUE, MSK_CLASSI_CIRRUS, MSK_CLASSI_SNOW_ICE]\". Details: \"Image.select: Band pattern 'water' did not match any bands. Available bands: [B1, B2, B3, B4, B5, B6, B7, B8, B8A, B9, B11, B12, AOT, WVP, SCL, TCI_R, TCI_G, TCI_B, MSK_CLDPRB, MSK_SNWPRB, QA10, QA20, QA60, MSK_CLASSI_OPAQUE, MSK_CLASSI_CIRRUS, MSK_CLASSI_SNOW_ICE]\">",
      "\nDuring handling of the above exception, another exception occurred:\n",
      "\u001b[1;31mEEException\u001b[0m                               Traceback (most recent call last)",
      "Cell \u001b[1;32mIn[66], line 56\u001b[0m\n\u001b[0;32m     50\u001b[0m \u001b[38;5;66;03m# Display the Dynamic World visualization with the source Sentinel-2 image.\u001b[39;00m\n\u001b[0;32m     51\u001b[0m Map\u001b[38;5;241m.\u001b[39madd_layer(\n\u001b[0;32m     52\u001b[0m     s2_image,\n\u001b[0;32m     53\u001b[0m     {\u001b[38;5;124m'\u001b[39m\u001b[38;5;124mmin\u001b[39m\u001b[38;5;124m'\u001b[39m: \u001b[38;5;241m0\u001b[39m, \u001b[38;5;124m'\u001b[39m\u001b[38;5;124mmax\u001b[39m\u001b[38;5;124m'\u001b[39m: \u001b[38;5;241m3000\u001b[39m, \u001b[38;5;124m'\u001b[39m\u001b[38;5;124mbands\u001b[39m\u001b[38;5;124m'\u001b[39m: [\u001b[38;5;124m'\u001b[39m\u001b[38;5;124mB4\u001b[39m\u001b[38;5;124m'\u001b[39m, \u001b[38;5;124m'\u001b[39m\u001b[38;5;124mB3\u001b[39m\u001b[38;5;124m'\u001b[39m, \u001b[38;5;124m'\u001b[39m\u001b[38;5;124mB2\u001b[39m\u001b[38;5;124m'\u001b[39m]},\n\u001b[0;32m     54\u001b[0m     \u001b[38;5;124m'\u001b[39m\u001b[38;5;124mSentinel-2 L1C\u001b[39m\u001b[38;5;124m'\u001b[39m,\n\u001b[0;32m     55\u001b[0m )\n\u001b[1;32m---> 56\u001b[0m Map\u001b[38;5;241m.\u001b[39madd_layer(\n\u001b[0;32m     57\u001b[0m     dw_rgb_hillshade,\n\u001b[0;32m     58\u001b[0m     {\u001b[38;5;124m'\u001b[39m\u001b[38;5;124mmin\u001b[39m\u001b[38;5;124m'\u001b[39m: \u001b[38;5;241m0\u001b[39m, \u001b[38;5;124m'\u001b[39m\u001b[38;5;124mmax\u001b[39m\u001b[38;5;124m'\u001b[39m: \u001b[38;5;241m0.65\u001b[39m},\n\u001b[0;32m     59\u001b[0m     \u001b[38;5;124m'\u001b[39m\u001b[38;5;124mDynamic World V1 - label hillshade\u001b[39m\u001b[38;5;124m'\u001b[39m,\n\u001b[0;32m     60\u001b[0m )\n\u001b[0;32m     62\u001b[0m Map\u001b[38;5;241m.\u001b[39msetCenter(\u001b[38;5;241m-\u001b[39m\u001b[38;5;241m123.3445771370641\u001b[39m,\u001b[38;5;241m48.43336760370573\u001b[39m, \u001b[38;5;241m11\u001b[39m)\n\u001b[0;32m     63\u001b[0m Map\n",
      "File \u001b[1;32m~\\AppData\\Local\\anaconda3\\envs\\gee\\Lib\\site-packages\\geemap\\core.py:1138\u001b[0m, in \u001b[0;36mMap.add_layer\u001b[1;34m(self, ee_object, vis_params, name, shown, opacity)\u001b[0m\n\u001b[0;32m   1136\u001b[0m \u001b[38;5;28;01mif\u001b[39;00m \u001b[38;5;28misinstance\u001b[39m(ee_object, ee\u001b[38;5;241m.\u001b[39mImageCollection):\n\u001b[0;32m   1137\u001b[0m     ee_object \u001b[38;5;241m=\u001b[39m ee_object\u001b[38;5;241m.\u001b[39mmosaic()\n\u001b[1;32m-> 1138\u001b[0m tile_layer \u001b[38;5;241m=\u001b[39m ee_tile_layers\u001b[38;5;241m.\u001b[39mEELeafletTileLayer(\n\u001b[0;32m   1139\u001b[0m     ee_object, vis_params, name, shown, opacity\n\u001b[0;32m   1140\u001b[0m )\n\u001b[0;32m   1142\u001b[0m \u001b[38;5;66;03m# Remove the layer if it already exists.\u001b[39;00m\n\u001b[0;32m   1143\u001b[0m \u001b[38;5;28mself\u001b[39m\u001b[38;5;241m.\u001b[39mremove(name)\n",
      "File \u001b[1;32m~\\AppData\\Local\\anaconda3\\envs\\gee\\Lib\\site-packages\\geemap\\ee_tile_layers.py:206\u001b[0m, in \u001b[0;36mEELeafletTileLayer.__init__\u001b[1;34m(self, ee_object, vis_params, name, shown, opacity, **kwargs)\u001b[0m\n\u001b[0;32m    192\u001b[0m \u001b[38;5;250m\u001b[39m\u001b[38;5;124;03m\"\"\"Initialize the ipyleaflet tile layer.\u001b[39;00m\n\u001b[0;32m    193\u001b[0m \n\u001b[0;32m    194\u001b[0m \u001b[38;5;124;03mArgs:\u001b[39;00m\n\u001b[1;32m   (...)\u001b[0m\n\u001b[0;32m    203\u001b[0m \u001b[38;5;124;03m        number between 0 and 1. Defaults to 1.\u001b[39;00m\n\u001b[0;32m    204\u001b[0m \u001b[38;5;124;03m\"\"\"\u001b[39;00m\n\u001b[0;32m    205\u001b[0m \u001b[38;5;28mself\u001b[39m\u001b[38;5;241m.\u001b[39m_ee_object \u001b[38;5;241m=\u001b[39m ee_object\n\u001b[1;32m--> 206\u001b[0m \u001b[38;5;28mself\u001b[39m\u001b[38;5;241m.\u001b[39murl_format \u001b[38;5;241m=\u001b[39m _get_tile_url_format(\n\u001b[0;32m    207\u001b[0m     ee_object, _validate_vis_params(vis_params)\n\u001b[0;32m    208\u001b[0m )\n\u001b[0;32m    209\u001b[0m \u001b[38;5;28msuper\u001b[39m()\u001b[38;5;241m.\u001b[39m\u001b[38;5;21m__init__\u001b[39m(\n\u001b[0;32m    210\u001b[0m     url\u001b[38;5;241m=\u001b[39m\u001b[38;5;28mself\u001b[39m\u001b[38;5;241m.\u001b[39murl_format,\n\u001b[0;32m    211\u001b[0m     attribution\u001b[38;5;241m=\u001b[39m\u001b[38;5;124m\"\u001b[39m\u001b[38;5;124mGoogle Earth Engine\u001b[39m\u001b[38;5;124m\"\u001b[39m,\n\u001b[1;32m   (...)\u001b[0m\n\u001b[0;32m    216\u001b[0m     \u001b[38;5;241m*\u001b[39m\u001b[38;5;241m*\u001b[39mkwargs,\n\u001b[0;32m    217\u001b[0m )\n",
      "File \u001b[1;32m~\\AppData\\Local\\anaconda3\\envs\\gee\\Lib\\site-packages\\geemap\\ee_tile_layers.py:36\u001b[0m, in \u001b[0;36m_get_tile_url_format\u001b[1;34m(ee_object, vis_params)\u001b[0m\n\u001b[0;32m     25\u001b[0m \u001b[38;5;250m\u001b[39m\u001b[38;5;124;03m\"\"\"Gets the tile URL format for an EE object.\u001b[39;00m\n\u001b[0;32m     26\u001b[0m \n\u001b[0;32m     27\u001b[0m \u001b[38;5;124;03mArgs:\u001b[39;00m\n\u001b[1;32m   (...)\u001b[0m\n\u001b[0;32m     33\u001b[0m \u001b[38;5;124;03m    str: The tile URL format.\u001b[39;00m\n\u001b[0;32m     34\u001b[0m \u001b[38;5;124;03m\"\"\"\u001b[39;00m\n\u001b[0;32m     35\u001b[0m image \u001b[38;5;241m=\u001b[39m _ee_object_to_image(ee_object, vis_params)\n\u001b[1;32m---> 36\u001b[0m map_id_dict \u001b[38;5;241m=\u001b[39m ee\u001b[38;5;241m.\u001b[39mImage(image)\u001b[38;5;241m.\u001b[39mgetMapId(vis_params)\n\u001b[0;32m     37\u001b[0m \u001b[38;5;28;01mreturn\u001b[39;00m map_id_dict[\u001b[38;5;124m\"\u001b[39m\u001b[38;5;124mtile_fetcher\u001b[39m\u001b[38;5;124m\"\u001b[39m]\u001b[38;5;241m.\u001b[39murl_format\n",
      "File \u001b[1;32m~\\AppData\\Local\\anaconda3\\envs\\gee\\Lib\\site-packages\\ee\\image.py:156\u001b[0m, in \u001b[0;36mImage.getMapId\u001b[1;34m(self, vis_params)\u001b[0m\n\u001b[0;32m    154\u001b[0m vis_image, request \u001b[38;5;241m=\u001b[39m \u001b[38;5;28mself\u001b[39m\u001b[38;5;241m.\u001b[39m_apply_visualization(vis_params)\n\u001b[0;32m    155\u001b[0m request[\u001b[38;5;124m'\u001b[39m\u001b[38;5;124mimage\u001b[39m\u001b[38;5;124m'\u001b[39m] \u001b[38;5;241m=\u001b[39m vis_image\n\u001b[1;32m--> 156\u001b[0m response \u001b[38;5;241m=\u001b[39m data\u001b[38;5;241m.\u001b[39mgetMapId(request)\n\u001b[0;32m    157\u001b[0m response[\u001b[38;5;124m'\u001b[39m\u001b[38;5;124mimage\u001b[39m\u001b[38;5;124m'\u001b[39m] \u001b[38;5;241m=\u001b[39m \u001b[38;5;28mself\u001b[39m\n\u001b[0;32m    158\u001b[0m \u001b[38;5;28;01mreturn\u001b[39;00m response\n",
      "File \u001b[1;32m~\\AppData\\Local\\anaconda3\\envs\\gee\\Lib\\site-packages\\ee\\data.py:750\u001b[0m, in \u001b[0;36mgetMapId\u001b[1;34m(params)\u001b[0m\n\u001b[0;32m    745\u001b[0m queryParams \u001b[38;5;241m=\u001b[39m {\n\u001b[0;32m    746\u001b[0m     \u001b[38;5;124m'\u001b[39m\u001b[38;5;124mfields\u001b[39m\u001b[38;5;124m'\u001b[39m: \u001b[38;5;124m'\u001b[39m\u001b[38;5;124mname\u001b[39m\u001b[38;5;124m'\u001b[39m,\n\u001b[0;32m    747\u001b[0m     \u001b[38;5;124m'\u001b[39m\u001b[38;5;124mbody\u001b[39m\u001b[38;5;124m'\u001b[39m: request,\n\u001b[0;32m    748\u001b[0m }\n\u001b[0;32m    749\u001b[0m _maybe_populate_workload_tag(queryParams)\n\u001b[1;32m--> 750\u001b[0m result \u001b[38;5;241m=\u001b[39m _execute_cloud_call(\n\u001b[0;32m    751\u001b[0m     _get_cloud_projects()\n\u001b[0;32m    752\u001b[0m     \u001b[38;5;241m.\u001b[39mmaps()\n\u001b[0;32m    753\u001b[0m     \u001b[38;5;241m.\u001b[39mcreate(parent\u001b[38;5;241m=\u001b[39m_get_projects_path(), \u001b[38;5;241m*\u001b[39m\u001b[38;5;241m*\u001b[39mqueryParams)\n\u001b[0;32m    754\u001b[0m )\n\u001b[0;32m    755\u001b[0m map_name \u001b[38;5;241m=\u001b[39m result[\u001b[38;5;124m'\u001b[39m\u001b[38;5;124mname\u001b[39m\u001b[38;5;124m'\u001b[39m]\n\u001b[0;32m    756\u001b[0m url_format \u001b[38;5;241m=\u001b[39m \u001b[38;5;124m'\u001b[39m\u001b[38;5;132;01m%s\u001b[39;00m\u001b[38;5;124m/\u001b[39m\u001b[38;5;132;01m%s\u001b[39;00m\u001b[38;5;124m/\u001b[39m\u001b[38;5;132;01m%s\u001b[39;00m\u001b[38;5;124m/tiles/\u001b[39m\u001b[38;5;132;01m{z}\u001b[39;00m\u001b[38;5;124m/\u001b[39m\u001b[38;5;132;01m{x}\u001b[39;00m\u001b[38;5;124m/\u001b[39m\u001b[38;5;132;01m{y}\u001b[39;00m\u001b[38;5;124m'\u001b[39m \u001b[38;5;241m%\u001b[39m (\n\u001b[0;32m    757\u001b[0m     _tile_base_url, _cloud_api_utils\u001b[38;5;241m.\u001b[39mVERSION, map_name)\n",
      "File \u001b[1;32m~\\AppData\\Local\\anaconda3\\envs\\gee\\Lib\\site-packages\\ee\\data.py:410\u001b[0m, in \u001b[0;36m_execute_cloud_call\u001b[1;34m(call, num_retries)\u001b[0m\n\u001b[0;32m    408\u001b[0m   \u001b[38;5;28;01mreturn\u001b[39;00m call\u001b[38;5;241m.\u001b[39mexecute(num_retries\u001b[38;5;241m=\u001b[39mnum_retries)\n\u001b[0;32m    409\u001b[0m \u001b[38;5;28;01mexcept\u001b[39;00m googleapiclient\u001b[38;5;241m.\u001b[39merrors\u001b[38;5;241m.\u001b[39mHttpError \u001b[38;5;28;01mas\u001b[39;00m e:\n\u001b[1;32m--> 410\u001b[0m   \u001b[38;5;28;01mraise\u001b[39;00m _translate_cloud_exception(e)\n",
      "\u001b[1;31mEEException\u001b[0m: Image.select: Band pattern 'water' did not match any bands. Available bands: [B1, B2, B3, B4, B5, B6, B7, B8, B8A, B9, B11, B12, AOT, WVP, SCL, TCI_R, TCI_G, TCI_B, MSK_CLDPRB, MSK_SNWPRB, QA10, QA20, QA60, MSK_CLASSI_OPAQUE, MSK_CLASSI_CIRRUS, MSK_CLASSI_SNOW_ICE]"
     ]
    }
   ],
   "source": [
    "### DYNAMIC WORLD ###\n",
    "\n",
    "col_filter = ee.Filter.And(\n",
    "    date_filter,\n",
    "    ee.Filter.bounds(roi)\n",
    ")\n",
    "\n",
    "dw_col = ee.ImageCollection('GOOGLE/DYNAMICWORLD/V1').filter(col_filter)\n",
    "s2_col = ee.ImageCollection('COPERNICUS/S2_HARMONIZED')\n",
    "\n",
    "linked_col = dw_col.linkCollection(s2_col, s2_col.first().bandNames())\n",
    "\n",
    "linked_image = ee.Image(linked_col.first())\n",
    "\n",
    "CLASS_NAMES = [\n",
    "    'water',\n",
    "    'trees',\n",
    "    'grass',\n",
    "    'flooded_vegetation',\n",
    "    'crops',\n",
    "    'shrub_and_scrub',\n",
    "    'built',\n",
    "    'bare',\n",
    "    'snow_and_ice',\n",
    "]\n",
    "\n",
    "VIS_PALETTE = [\n",
    "    '419bdf',\n",
    "    '397d49',\n",
    "    '88b053',\n",
    "    '7a87c6',\n",
    "    'e49635',\n",
    "    'dfc35a',\n",
    "    'c4281b',\n",
    "    'a59b8f',\n",
    "    'b39fe1',\n",
    "]\n",
    "\n",
    "dw_rgb = (\n",
    "    linked_image.select('label')\n",
    "    .visualize(min=0, max=8, palette=VIS_PALETTE)\n",
    "    .divide(255)\n",
    ")\n",
    "\n",
    "# Get the most likely class probability.\n",
    "top1_prob = linked_image.select(CLASS_NAMES).reduce(ee.Reducer.max())\n",
    "\n",
    "# Create a hillshade of the most likely class probability on [0, 1]\n",
    "top1_prob_hillshade = ee.Terrain.hillshade(top1_prob.multiply(100)).divide(255)\n",
    "\n",
    "# Combine the RGB image with the hillshade.\n",
    "dw_rgb_hillshade = dw_rgb.multiply(top1_prob_hillshade)\n",
    "\n",
    "# Display the Dynamic World visualization with the source Sentinel-2 image.\n",
    "Map.add_layer(\n",
    "    linked_image,\n",
    "    {'min': 0, 'max': 3000, 'bands': ['B4', 'B3', 'B2']},\n",
    "    'Sentinel-2 L1C',\n",
    ")\n",
    "Map.add_layer(\n",
    "    dw_rgb_hillshade,\n",
    "    {'min': 0, 'max': 0.65},\n",
    "    'Dynamic World V1 - label hillshade',\n",
    ")\n",
    "\n",
    "Map.setCenter(-123.3445771370641,48.43336760370573, 11)\n",
    "Map"
   ]
  },
  {
   "cell_type": "code",
   "execution_count": 57,
   "id": "ae652f9e-183a-49f7-93c1-ecf10dd29e94",
   "metadata": {},
   "outputs": [
    {
     "data": {
      "text/html": [
       "\n",
       "            <style>\n",
       "                .geemap-dark {\n",
       "                    --jp-widgets-color: white;\n",
       "                    --jp-widgets-label-color: white;\n",
       "                    --jp-ui-font-color1: white;\n",
       "                    --jp-layout-color2: #454545;\n",
       "                    background-color: #383838;\n",
       "                }\n",
       "\n",
       "                .geemap-dark .jupyter-button {\n",
       "                    --jp-layout-color3: #383838;\n",
       "                }\n",
       "\n",
       "                .geemap-colab {\n",
       "                    background-color: var(--colab-primary-surface-color, white);\n",
       "                }\n",
       "\n",
       "                .geemap-colab .jupyter-button {\n",
       "                    --jp-layout-color3: var(--colab-primary-surface-color, white);\n",
       "                }\n",
       "            </style>\n",
       "            "
      ],
      "text/plain": [
       "<IPython.core.display.HTML object>"
      ]
     },
     "metadata": {},
     "output_type": "display_data"
    },
    {
     "data": {
      "application/vnd.jupyter.widget-view+json": {
       "model_id": "dc8d7043f5604199a1e21667ef50f12e",
       "version_major": 2,
       "version_minor": 0
      },
      "text/plain": [
       "Map(center=[48.43336760370573, -123.3445771370641], controls=(WidgetControl(options=['position', 'transparent_…"
      ]
     },
     "execution_count": 57,
     "metadata": {},
     "output_type": "execute_result"
    }
   ],
   "source": [
    "### CLASSIFICATION USING DYNAMIC WORLD BANDS ###\n",
    "\n",
    "vegetation = ee.FeatureCollection(\"projects/ee-flickandzed/assets/vicvegetation\")\n",
    "water = ee.FeatureCollection(\"projects/ee-flickandzed/assets/vicwater\")\n",
    "infrastructure = ee.FeatureCollection(\"projects/ee-flickandzed/assets/vicinfrastructure\")\n",
    "bareground = ee.FeatureCollection(\"projects/ee-flickandzed/assets/vicbareground\")\n",
    "\n",
    "newfc = water.merge(infrastructure).merge(vegetation).merge(bareground)\n",
    "\n",
    "probabilityBands = ['water', 'trees', 'grass', 'flooded_vegetation', 'crops', 'shrub_and_scrub', 'built', 'bare', 'snow_and_ice']\n",
    "\n",
    "dw = ee.ImageCollection('GOOGLE/DYNAMICWORLD/V1')\n",
    "\n",
    "dwfiltered = dw.filter(date_filter).filter(ee.Filter.bounds(roi)).select(probabilityBands)\n",
    "dwComposite = dwfiltered.mean()\n",
    "\n",
    "training = dwComposite.sampleRegions(newfc, ['landcover'], 10)\n",
    "\n",
    "classifier = ee.Classifier.smileRandomForest(50).train(training, 'landcover', dwComposite.bandNames())\n",
    "\n",
    "classified = dwComposite.classify(classifier)\n",
    "\n",
    "palette = ['green', 'blue', 'gray', 'yellow', 'red', 'violet']\n",
    "\n",
    "Map.addLayer(classified.clip(roi),{'min': 0, 'max': 6, 'palette': palette}, 'DW Classified')\n",
    "Map.setCenter(-123.3445771370641,48.43336760370573, 11)\n",
    "Map"
   ]
  },
  {
   "cell_type": "code",
   "execution_count": 34,
   "id": "8547ca24-5a0a-44b2-b3e1-6174b15ffb53",
   "metadata": {},
   "outputs": [
    {
     "data": {
      "text/html": [
       "\n",
       "            <style>\n",
       "                .geemap-dark {\n",
       "                    --jp-widgets-color: white;\n",
       "                    --jp-widgets-label-color: white;\n",
       "                    --jp-ui-font-color1: white;\n",
       "                    --jp-layout-color2: #454545;\n",
       "                    background-color: #383838;\n",
       "                }\n",
       "\n",
       "                .geemap-dark .jupyter-button {\n",
       "                    --jp-layout-color3: #383838;\n",
       "                }\n",
       "\n",
       "                .geemap-colab {\n",
       "                    background-color: var(--colab-primary-surface-color, white);\n",
       "                }\n",
       "\n",
       "                .geemap-colab .jupyter-button {\n",
       "                    --jp-layout-color3: var(--colab-primary-surface-color, white);\n",
       "                }\n",
       "            </style>\n",
       "            "
      ],
      "text/plain": [
       "<IPython.core.display.HTML object>"
      ]
     },
     "metadata": {},
     "output_type": "display_data"
    }
   ],
   "source": [
    "### CLASSIFICAION USING ADDITIONAL SPECTRAL INDICES ###"
   ]
  },
  {
   "cell_type": "code",
   "execution_count": null,
   "id": "dfa17ce0-6165-42aa-b9d8-1fee82c74dc6",
   "metadata": {},
   "outputs": [],
   "source": []
  }
 ],
 "metadata": {
  "kernelspec": {
   "display_name": "Python 3 (ipykernel)",
   "language": "python",
   "name": "python3"
  },
  "language_info": {
   "codemirror_mode": {
    "name": "ipython",
    "version": 3
   },
   "file_extension": ".py",
   "mimetype": "text/x-python",
   "name": "python",
   "nbconvert_exporter": "python",
   "pygments_lexer": "ipython3",
   "version": "3.12.8"
  }
 },
 "nbformat": 4,
 "nbformat_minor": 5
}
