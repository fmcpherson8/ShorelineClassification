{
 "cells": [
  {
   "cell_type": "code",
   "execution_count": 1,
   "id": "e4dd3560-c308-4c3c-99b4-933bed0584d2",
   "metadata": {},
   "outputs": [
    {
     "name": "stdout",
     "output_type": "stream",
     "text": [
      "Requirement already satisfied: geemap in c:\\users\\mcphersonf\\appdata\\local\\anaconda3\\envs\\gee\\lib\\site-packages (0.35.1)\n",
      "Requirement already satisfied: bqplot in c:\\users\\mcphersonf\\appdata\\local\\anaconda3\\envs\\gee\\lib\\site-packages (from geemap) (0.12.44)\n",
      "Requirement already satisfied: colour in c:\\users\\mcphersonf\\appdata\\local\\anaconda3\\envs\\gee\\lib\\site-packages (from geemap) (0.1.5)\n",
      "Requirement already satisfied: earthengine-api>=1.0.0 in c:\\users\\mcphersonf\\appdata\\local\\anaconda3\\envs\\gee\\lib\\site-packages (from geemap) (1.5.0)\n",
      "Requirement already satisfied: eerepr>=0.0.4 in c:\\users\\mcphersonf\\appdata\\local\\anaconda3\\envs\\gee\\lib\\site-packages (from geemap) (0.1.0)\n",
      "Requirement already satisfied: folium>=0.17.0 in c:\\users\\mcphersonf\\appdata\\local\\anaconda3\\envs\\gee\\lib\\site-packages (from geemap) (0.19.4)\n",
      "Requirement already satisfied: geocoder in c:\\users\\mcphersonf\\appdata\\local\\anaconda3\\envs\\gee\\lib\\site-packages (from geemap) (1.38.1)\n",
      "Requirement already satisfied: ipyevents in c:\\users\\mcphersonf\\appdata\\local\\anaconda3\\envs\\gee\\lib\\site-packages (from geemap) (2.0.2)\n",
      "Requirement already satisfied: ipyfilechooser>=0.6.0 in c:\\users\\mcphersonf\\appdata\\local\\anaconda3\\envs\\gee\\lib\\site-packages (from geemap) (0.6.0)\n",
      "Requirement already satisfied: ipyleaflet>=0.19.2 in c:\\users\\mcphersonf\\appdata\\local\\anaconda3\\envs\\gee\\lib\\site-packages (from geemap) (0.19.2)\n",
      "Requirement already satisfied: ipytree in c:\\users\\mcphersonf\\appdata\\local\\anaconda3\\envs\\gee\\lib\\site-packages (from geemap) (0.2.2)\n",
      "Requirement already satisfied: matplotlib in c:\\users\\mcphersonf\\appdata\\local\\anaconda3\\envs\\gee\\lib\\site-packages (from geemap) (3.10.0)\n",
      "Requirement already satisfied: numpy in c:\\users\\mcphersonf\\appdata\\local\\anaconda3\\envs\\gee\\lib\\site-packages (from geemap) (2.2.2)\n",
      "Requirement already satisfied: pandas in c:\\users\\mcphersonf\\appdata\\local\\anaconda3\\envs\\gee\\lib\\site-packages (from geemap) (2.2.3)\n",
      "Requirement already satisfied: plotly in c:\\users\\mcphersonf\\appdata\\local\\anaconda3\\envs\\gee\\lib\\site-packages (from geemap) (6.0.0)\n",
      "Requirement already satisfied: pyperclip in c:\\users\\mcphersonf\\appdata\\local\\anaconda3\\envs\\gee\\lib\\site-packages (from geemap) (1.9.0)\n",
      "Requirement already satisfied: pyshp>=2.3.1 in c:\\users\\mcphersonf\\appdata\\local\\anaconda3\\envs\\gee\\lib\\site-packages (from geemap) (2.3.1)\n",
      "Requirement already satisfied: python-box in c:\\users\\mcphersonf\\appdata\\local\\anaconda3\\envs\\gee\\lib\\site-packages (from geemap) (7.3.2)\n",
      "Requirement already satisfied: scooby in c:\\users\\mcphersonf\\appdata\\local\\anaconda3\\envs\\gee\\lib\\site-packages (from geemap) (0.10.0)\n",
      "Requirement already satisfied: google-cloud-storage in c:\\users\\mcphersonf\\appdata\\local\\anaconda3\\envs\\gee\\lib\\site-packages (from earthengine-api>=1.0.0->geemap) (3.0.0)\n",
      "Requirement already satisfied: google-api-python-client>=1.12.1 in c:\\users\\mcphersonf\\appdata\\local\\anaconda3\\envs\\gee\\lib\\site-packages (from earthengine-api>=1.0.0->geemap) (2.160.0)\n",
      "Requirement already satisfied: google-auth>=1.4.1 in c:\\users\\mcphersonf\\appdata\\local\\anaconda3\\envs\\gee\\lib\\site-packages (from earthengine-api>=1.0.0->geemap) (2.38.0)\n",
      "Requirement already satisfied: google-auth-httplib2>=0.0.3 in c:\\users\\mcphersonf\\appdata\\local\\anaconda3\\envs\\gee\\lib\\site-packages (from earthengine-api>=1.0.0->geemap) (0.2.0)\n",
      "Requirement already satisfied: httplib2<1dev,>=0.9.2 in c:\\users\\mcphersonf\\appdata\\local\\anaconda3\\envs\\gee\\lib\\site-packages (from earthengine-api>=1.0.0->geemap) (0.22.0)\n",
      "Requirement already satisfied: requests in c:\\users\\mcphersonf\\appdata\\local\\anaconda3\\envs\\gee\\lib\\site-packages (from earthengine-api>=1.0.0->geemap) (2.32.3)\n",
      "Requirement already satisfied: branca>=0.6.0 in c:\\users\\mcphersonf\\appdata\\local\\anaconda3\\envs\\gee\\lib\\site-packages (from folium>=0.17.0->geemap) (0.8.1)\n",
      "Requirement already satisfied: jinja2>=2.9 in c:\\users\\mcphersonf\\appdata\\local\\anaconda3\\envs\\gee\\lib\\site-packages (from folium>=0.17.0->geemap) (3.1.5)\n",
      "Requirement already satisfied: xyzservices in c:\\users\\mcphersonf\\appdata\\local\\anaconda3\\envs\\gee\\lib\\site-packages (from folium>=0.17.0->geemap) (2025.1.0)\n",
      "Requirement already satisfied: ipywidgets in c:\\users\\mcphersonf\\appdata\\local\\anaconda3\\envs\\gee\\lib\\site-packages (from ipyfilechooser>=0.6.0->geemap) (8.1.5)\n",
      "Requirement already satisfied: jupyter-leaflet<0.20,>=0.19 in c:\\users\\mcphersonf\\appdata\\local\\anaconda3\\envs\\gee\\lib\\site-packages (from ipyleaflet>=0.19.2->geemap) (0.19.2)\n",
      "Requirement already satisfied: traittypes<3,>=0.2.1 in c:\\users\\mcphersonf\\appdata\\local\\anaconda3\\envs\\gee\\lib\\site-packages (from ipyleaflet>=0.19.2->geemap) (0.2.1)\n",
      "Requirement already satisfied: traitlets>=4.3.0 in c:\\users\\mcphersonf\\appdata\\local\\anaconda3\\envs\\gee\\lib\\site-packages (from bqplot->geemap) (5.14.3)\n",
      "Requirement already satisfied: python-dateutil>=2.8.2 in c:\\users\\mcphersonf\\appdata\\local\\anaconda3\\envs\\gee\\lib\\site-packages (from pandas->geemap) (2.9.0.post0)\n",
      "Requirement already satisfied: pytz>=2020.1 in c:\\users\\mcphersonf\\appdata\\local\\anaconda3\\envs\\gee\\lib\\site-packages (from pandas->geemap) (2025.1)\n",
      "Requirement already satisfied: tzdata>=2022.7 in c:\\users\\mcphersonf\\appdata\\local\\anaconda3\\envs\\gee\\lib\\site-packages (from pandas->geemap) (2025.1)\n",
      "Requirement already satisfied: click in c:\\users\\mcphersonf\\appdata\\local\\anaconda3\\envs\\gee\\lib\\site-packages (from geocoder->geemap) (8.1.8)\n",
      "Requirement already satisfied: future in c:\\users\\mcphersonf\\appdata\\local\\anaconda3\\envs\\gee\\lib\\site-packages (from geocoder->geemap) (1.0.0)\n",
      "Requirement already satisfied: ratelim in c:\\users\\mcphersonf\\appdata\\local\\anaconda3\\envs\\gee\\lib\\site-packages (from geocoder->geemap) (0.1.6)\n",
      "Requirement already satisfied: six in c:\\users\\mcphersonf\\appdata\\local\\anaconda3\\envs\\gee\\lib\\site-packages (from geocoder->geemap) (1.16.0)\n",
      "Requirement already satisfied: contourpy>=1.0.1 in c:\\users\\mcphersonf\\appdata\\local\\anaconda3\\envs\\gee\\lib\\site-packages (from matplotlib->geemap) (1.3.1)\n",
      "Requirement already satisfied: cycler>=0.10 in c:\\users\\mcphersonf\\appdata\\local\\anaconda3\\envs\\gee\\lib\\site-packages (from matplotlib->geemap) (0.12.1)\n",
      "Requirement already satisfied: fonttools>=4.22.0 in c:\\users\\mcphersonf\\appdata\\local\\anaconda3\\envs\\gee\\lib\\site-packages (from matplotlib->geemap) (4.55.8)\n",
      "Requirement already satisfied: kiwisolver>=1.3.1 in c:\\users\\mcphersonf\\appdata\\local\\anaconda3\\envs\\gee\\lib\\site-packages (from matplotlib->geemap) (1.4.8)\n",
      "Requirement already satisfied: packaging>=20.0 in c:\\users\\mcphersonf\\appdata\\local\\anaconda3\\envs\\gee\\lib\\site-packages (from matplotlib->geemap) (24.2)\n",
      "Requirement already satisfied: pillow>=8 in c:\\users\\mcphersonf\\appdata\\local\\anaconda3\\envs\\gee\\lib\\site-packages (from matplotlib->geemap) (11.1.0)\n",
      "Requirement already satisfied: pyparsing>=2.3.1 in c:\\users\\mcphersonf\\appdata\\local\\anaconda3\\envs\\gee\\lib\\site-packages (from matplotlib->geemap) (3.2.1)\n",
      "Requirement already satisfied: narwhals>=1.15.1 in c:\\users\\mcphersonf\\appdata\\local\\anaconda3\\envs\\gee\\lib\\site-packages (from plotly->geemap) (1.24.1)\n",
      "Requirement already satisfied: google-api-core!=2.0.*,!=2.1.*,!=2.2.*,!=2.3.0,<3.0.0.dev0,>=1.31.5 in c:\\users\\mcphersonf\\appdata\\local\\anaconda3\\envs\\gee\\lib\\site-packages (from google-api-python-client>=1.12.1->earthengine-api>=1.0.0->geemap) (2.24.1)\n",
      "Requirement already satisfied: uritemplate<5,>=3.0.1 in c:\\users\\mcphersonf\\appdata\\local\\anaconda3\\envs\\gee\\lib\\site-packages (from google-api-python-client>=1.12.1->earthengine-api>=1.0.0->geemap) (4.1.1)\n",
      "Requirement already satisfied: cachetools<6.0,>=2.0.0 in c:\\users\\mcphersonf\\appdata\\local\\anaconda3\\envs\\gee\\lib\\site-packages (from google-auth>=1.4.1->earthengine-api>=1.0.0->geemap) (5.5.1)\n",
      "Requirement already satisfied: pyasn1-modules>=0.2.1 in c:\\users\\mcphersonf\\appdata\\local\\anaconda3\\envs\\gee\\lib\\site-packages (from google-auth>=1.4.1->earthengine-api>=1.0.0->geemap) (0.4.1)\n",
      "Requirement already satisfied: rsa<5,>=3.1.4 in c:\\users\\mcphersonf\\appdata\\local\\anaconda3\\envs\\gee\\lib\\site-packages (from google-auth>=1.4.1->earthengine-api>=1.0.0->geemap) (4.9)\n",
      "Requirement already satisfied: comm>=0.1.3 in c:\\users\\mcphersonf\\appdata\\local\\anaconda3\\envs\\gee\\lib\\site-packages (from ipywidgets->ipyfilechooser>=0.6.0->geemap) (0.2.1)\n",
      "Requirement already satisfied: ipython>=6.1.0 in c:\\users\\mcphersonf\\appdata\\local\\anaconda3\\envs\\gee\\lib\\site-packages (from ipywidgets->ipyfilechooser>=0.6.0->geemap) (8.30.0)\n",
      "Requirement already satisfied: widgetsnbextension~=4.0.12 in c:\\users\\mcphersonf\\appdata\\local\\anaconda3\\envs\\gee\\lib\\site-packages (from ipywidgets->ipyfilechooser>=0.6.0->geemap) (4.0.13)\n",
      "Requirement already satisfied: jupyterlab-widgets~=3.0.12 in c:\\users\\mcphersonf\\appdata\\local\\anaconda3\\envs\\gee\\lib\\site-packages (from ipywidgets->ipyfilechooser>=0.6.0->geemap) (3.0.13)\n",
      "Requirement already satisfied: MarkupSafe>=2.0 in c:\\users\\mcphersonf\\appdata\\local\\anaconda3\\envs\\gee\\lib\\site-packages (from jinja2>=2.9->folium>=0.17.0->geemap) (2.1.3)\n",
      "Requirement already satisfied: colorama in c:\\users\\mcphersonf\\appdata\\local\\anaconda3\\envs\\gee\\lib\\site-packages (from click->geocoder->geemap) (0.4.6)\n",
      "Requirement already satisfied: google-cloud-core<3.0dev,>=2.3.0 in c:\\users\\mcphersonf\\appdata\\local\\anaconda3\\envs\\gee\\lib\\site-packages (from google-cloud-storage->earthengine-api>=1.0.0->geemap) (2.4.1)\n",
      "Requirement already satisfied: google-resumable-media>=2.7.2 in c:\\users\\mcphersonf\\appdata\\local\\anaconda3\\envs\\gee\\lib\\site-packages (from google-cloud-storage->earthengine-api>=1.0.0->geemap) (2.7.2)\n",
      "Requirement already satisfied: google-crc32c<2.0dev,>=1.0 in c:\\users\\mcphersonf\\appdata\\local\\anaconda3\\envs\\gee\\lib\\site-packages (from google-cloud-storage->earthengine-api>=1.0.0->geemap) (1.6.0)\n",
      "Requirement already satisfied: charset-normalizer<4,>=2 in c:\\users\\mcphersonf\\appdata\\local\\anaconda3\\envs\\gee\\lib\\site-packages (from requests->earthengine-api>=1.0.0->geemap) (3.3.2)\n",
      "Requirement already satisfied: idna<4,>=2.5 in c:\\users\\mcphersonf\\appdata\\local\\anaconda3\\envs\\gee\\lib\\site-packages (from requests->earthengine-api>=1.0.0->geemap) (3.7)\n",
      "Requirement already satisfied: urllib3<3,>=1.21.1 in c:\\users\\mcphersonf\\appdata\\local\\anaconda3\\envs\\gee\\lib\\site-packages (from requests->earthengine-api>=1.0.0->geemap) (2.3.0)\n",
      "Requirement already satisfied: certifi>=2017.4.17 in c:\\users\\mcphersonf\\appdata\\local\\anaconda3\\envs\\gee\\lib\\site-packages (from requests->earthengine-api>=1.0.0->geemap) (2024.12.14)\n",
      "Requirement already satisfied: decorator in c:\\users\\mcphersonf\\appdata\\local\\anaconda3\\envs\\gee\\lib\\site-packages (from ratelim->geocoder->geemap) (5.1.1)\n",
      "Requirement already satisfied: googleapis-common-protos<2.0.dev0,>=1.56.2 in c:\\users\\mcphersonf\\appdata\\local\\anaconda3\\envs\\gee\\lib\\site-packages (from google-api-core!=2.0.*,!=2.1.*,!=2.2.*,!=2.3.0,<3.0.0.dev0,>=1.31.5->google-api-python-client>=1.12.1->earthengine-api>=1.0.0->geemap) (1.66.0)\n",
      "Requirement already satisfied: protobuf!=3.20.0,!=3.20.1,!=4.21.0,!=4.21.1,!=4.21.2,!=4.21.3,!=4.21.4,!=4.21.5,<6.0.0.dev0,>=3.19.5 in c:\\users\\mcphersonf\\appdata\\local\\anaconda3\\envs\\gee\\lib\\site-packages (from google-api-core!=2.0.*,!=2.1.*,!=2.2.*,!=2.3.0,<3.0.0.dev0,>=1.31.5->google-api-python-client>=1.12.1->earthengine-api>=1.0.0->geemap) (5.29.3)\n",
      "Requirement already satisfied: proto-plus<2.0.0dev,>=1.22.3 in c:\\users\\mcphersonf\\appdata\\local\\anaconda3\\envs\\gee\\lib\\site-packages (from google-api-core!=2.0.*,!=2.1.*,!=2.2.*,!=2.3.0,<3.0.0.dev0,>=1.31.5->google-api-python-client>=1.12.1->earthengine-api>=1.0.0->geemap) (1.26.0)\n",
      "Requirement already satisfied: jedi>=0.16 in c:\\users\\mcphersonf\\appdata\\local\\anaconda3\\envs\\gee\\lib\\site-packages (from ipython>=6.1.0->ipywidgets->ipyfilechooser>=0.6.0->geemap) (0.19.2)\n",
      "Requirement already satisfied: matplotlib-inline in c:\\users\\mcphersonf\\appdata\\local\\anaconda3\\envs\\gee\\lib\\site-packages (from ipython>=6.1.0->ipywidgets->ipyfilechooser>=0.6.0->geemap) (0.1.6)\n",
      "Requirement already satisfied: prompt-toolkit<3.1.0,>=3.0.41 in c:\\users\\mcphersonf\\appdata\\local\\anaconda3\\envs\\gee\\lib\\site-packages (from ipython>=6.1.0->ipywidgets->ipyfilechooser>=0.6.0->geemap) (3.0.43)\n",
      "Requirement already satisfied: pygments>=2.4.0 in c:\\users\\mcphersonf\\appdata\\local\\anaconda3\\envs\\gee\\lib\\site-packages (from ipython>=6.1.0->ipywidgets->ipyfilechooser>=0.6.0->geemap) (2.15.1)\n",
      "Requirement already satisfied: stack-data in c:\\users\\mcphersonf\\appdata\\local\\anaconda3\\envs\\gee\\lib\\site-packages (from ipython>=6.1.0->ipywidgets->ipyfilechooser>=0.6.0->geemap) (0.2.0)\n",
      "Requirement already satisfied: pyasn1<0.7.0,>=0.4.6 in c:\\users\\mcphersonf\\appdata\\local\\anaconda3\\envs\\gee\\lib\\site-packages (from pyasn1-modules>=0.2.1->google-auth>=1.4.1->earthengine-api>=1.0.0->geemap) (0.6.1)\n",
      "Requirement already satisfied: parso<0.9.0,>=0.8.4 in c:\\users\\mcphersonf\\appdata\\local\\anaconda3\\envs\\gee\\lib\\site-packages (from jedi>=0.16->ipython>=6.1.0->ipywidgets->ipyfilechooser>=0.6.0->geemap) (0.8.4)\n",
      "Requirement already satisfied: wcwidth in c:\\users\\mcphersonf\\appdata\\local\\anaconda3\\envs\\gee\\lib\\site-packages (from prompt-toolkit<3.1.0,>=3.0.41->ipython>=6.1.0->ipywidgets->ipyfilechooser>=0.6.0->geemap) (0.2.5)\n",
      "Requirement already satisfied: executing in c:\\users\\mcphersonf\\appdata\\local\\anaconda3\\envs\\gee\\lib\\site-packages (from stack-data->ipython>=6.1.0->ipywidgets->ipyfilechooser>=0.6.0->geemap) (0.8.3)\n",
      "Requirement already satisfied: asttokens in c:\\users\\mcphersonf\\appdata\\local\\anaconda3\\envs\\gee\\lib\\site-packages (from stack-data->ipython>=6.1.0->ipywidgets->ipyfilechooser>=0.6.0->geemap) (2.0.5)\n",
      "Requirement already satisfied: pure-eval in c:\\users\\mcphersonf\\appdata\\local\\anaconda3\\envs\\gee\\lib\\site-packages (from stack-data->ipython>=6.1.0->ipywidgets->ipyfilechooser>=0.6.0->geemap) (0.2.2)\n"
     ]
    }
   ],
   "source": [
    "!pip install geemap"
   ]
  },
  {
   "cell_type": "code",
   "execution_count": 2,
   "id": "b0d2c821-d76d-48b9-a9c3-62c55c03d737",
   "metadata": {},
   "outputs": [],
   "source": [
    "import os\n",
    "import ee\n",
    "import geemap\n",
    "import pandas as pd\n",
    "from datetime import datetime, timedelta\n",
    "ee.Authenticate()\n",
    "ee.Initialize()"
   ]
  },
  {
   "cell_type": "code",
   "execution_count": 3,
   "id": "97bbb912-f0df-46bb-8c07-a2b7f59cb8fa",
   "metadata": {},
   "outputs": [
    {
     "data": {
      "text/html": [
       "\n",
       "            <style>\n",
       "                .geemap-dark {\n",
       "                    --jp-widgets-color: white;\n",
       "                    --jp-widgets-label-color: white;\n",
       "                    --jp-ui-font-color1: white;\n",
       "                    --jp-layout-color2: #454545;\n",
       "                    background-color: #383838;\n",
       "                }\n",
       "\n",
       "                .geemap-dark .jupyter-button {\n",
       "                    --jp-layout-color3: #383838;\n",
       "                }\n",
       "\n",
       "                .geemap-colab {\n",
       "                    background-color: var(--colab-primary-surface-color, white);\n",
       "                }\n",
       "\n",
       "                .geemap-colab .jupyter-button {\n",
       "                    --jp-layout-color3: var(--colab-primary-surface-color, white);\n",
       "                }\n",
       "            </style>\n",
       "            "
      ],
      "text/plain": [
       "<IPython.core.display.HTML object>"
      ]
     },
     "metadata": {},
     "output_type": "display_data"
    },
    {
     "name": "stdout",
     "output_type": "stream",
     "text": [
      "Requirement already satisfied: earthengine-api in c:\\users\\mcphersonf\\appdata\\local\\anaconda3\\envs\\gee\\lib\\site-packages (1.5.0)Note: you may need to restart the kernel to use updated packages.\n",
      "\n",
      "Requirement already satisfied: google-cloud-storage in c:\\users\\mcphersonf\\appdata\\local\\anaconda3\\envs\\gee\\lib\\site-packages (from earthengine-api) (3.0.0)\n",
      "Requirement already satisfied: google-api-python-client>=1.12.1 in c:\\users\\mcphersonf\\appdata\\local\\anaconda3\\envs\\gee\\lib\\site-packages (from earthengine-api) (2.160.0)\n",
      "Requirement already satisfied: google-auth>=1.4.1 in c:\\users\\mcphersonf\\appdata\\local\\anaconda3\\envs\\gee\\lib\\site-packages (from earthengine-api) (2.38.0)\n",
      "Requirement already satisfied: google-auth-httplib2>=0.0.3 in c:\\users\\mcphersonf\\appdata\\local\\anaconda3\\envs\\gee\\lib\\site-packages (from earthengine-api) (0.2.0)\n",
      "Requirement already satisfied: httplib2<1dev,>=0.9.2 in c:\\users\\mcphersonf\\appdata\\local\\anaconda3\\envs\\gee\\lib\\site-packages (from earthengine-api) (0.22.0)\n",
      "Requirement already satisfied: requests in c:\\users\\mcphersonf\\appdata\\local\\anaconda3\\envs\\gee\\lib\\site-packages (from earthengine-api) (2.32.3)\n",
      "Requirement already satisfied: google-api-core!=2.0.*,!=2.1.*,!=2.2.*,!=2.3.0,<3.0.0.dev0,>=1.31.5 in c:\\users\\mcphersonf\\appdata\\local\\anaconda3\\envs\\gee\\lib\\site-packages (from google-api-python-client>=1.12.1->earthengine-api) (2.24.1)\n",
      "Requirement already satisfied: uritemplate<5,>=3.0.1 in c:\\users\\mcphersonf\\appdata\\local\\anaconda3\\envs\\gee\\lib\\site-packages (from google-api-python-client>=1.12.1->earthengine-api) (4.1.1)\n",
      "Requirement already satisfied: cachetools<6.0,>=2.0.0 in c:\\users\\mcphersonf\\appdata\\local\\anaconda3\\envs\\gee\\lib\\site-packages (from google-auth>=1.4.1->earthengine-api) (5.5.1)\n",
      "Requirement already satisfied: pyasn1-modules>=0.2.1 in c:\\users\\mcphersonf\\appdata\\local\\anaconda3\\envs\\gee\\lib\\site-packages (from google-auth>=1.4.1->earthengine-api) (0.4.1)\n",
      "Requirement already satisfied: rsa<5,>=3.1.4 in c:\\users\\mcphersonf\\appdata\\local\\anaconda3\\envs\\gee\\lib\\site-packages (from google-auth>=1.4.1->earthengine-api) (4.9)\n",
      "Requirement already satisfied: pyparsing!=3.0.0,!=3.0.1,!=3.0.2,!=3.0.3,<4,>=2.4.2 in c:\\users\\mcphersonf\\appdata\\local\\anaconda3\\envs\\gee\\lib\\site-packages (from httplib2<1dev,>=0.9.2->earthengine-api) (3.2.1)\n",
      "Requirement already satisfied: google-cloud-core<3.0dev,>=2.3.0 in c:\\users\\mcphersonf\\appdata\\local\\anaconda3\\envs\\gee\\lib\\site-packages (from google-cloud-storage->earthengine-api) (2.4.1)\n",
      "Requirement already satisfied: google-resumable-media>=2.7.2 in c:\\users\\mcphersonf\\appdata\\local\\anaconda3\\envs\\gee\\lib\\site-packages (from google-cloud-storage->earthengine-api) (2.7.2)\n",
      "Requirement already satisfied: google-crc32c<2.0dev,>=1.0 in c:\\users\\mcphersonf\\appdata\\local\\anaconda3\\envs\\gee\\lib\\site-packages (from google-cloud-storage->earthengine-api) (1.6.0)\n",
      "Requirement already satisfied: charset-normalizer<4,>=2 in c:\\users\\mcphersonf\\appdata\\local\\anaconda3\\envs\\gee\\lib\\site-packages (from requests->earthengine-api) (3.3.2)\n",
      "Requirement already satisfied: idna<4,>=2.5 in c:\\users\\mcphersonf\\appdata\\local\\anaconda3\\envs\\gee\\lib\\site-packages (from requests->earthengine-api) (3.7)\n",
      "Requirement already satisfied: urllib3<3,>=1.21.1 in c:\\users\\mcphersonf\\appdata\\local\\anaconda3\\envs\\gee\\lib\\site-packages (from requests->earthengine-api) (2.3.0)\n",
      "Requirement already satisfied: certifi>=2017.4.17 in c:\\users\\mcphersonf\\appdata\\local\\anaconda3\\envs\\gee\\lib\\site-packages (from requests->earthengine-api) (2024.12.14)\n",
      "Requirement already satisfied: googleapis-common-protos<2.0.dev0,>=1.56.2 in c:\\users\\mcphersonf\\appdata\\local\\anaconda3\\envs\\gee\\lib\\site-packages (from google-api-core!=2.0.*,!=2.1.*,!=2.2.*,!=2.3.0,<3.0.0.dev0,>=1.31.5->google-api-python-client>=1.12.1->earthengine-api) (1.66.0)\n",
      "Requirement already satisfied: protobuf!=3.20.0,!=3.20.1,!=4.21.0,!=4.21.1,!=4.21.2,!=4.21.3,!=4.21.4,!=4.21.5,<6.0.0.dev0,>=3.19.5 in c:\\users\\mcphersonf\\appdata\\local\\anaconda3\\envs\\gee\\lib\\site-packages (from google-api-core!=2.0.*,!=2.1.*,!=2.2.*,!=2.3.0,<3.0.0.dev0,>=1.31.5->google-api-python-client>=1.12.1->earthengine-api) (5.29.3)\n",
      "Requirement already satisfied: proto-plus<2.0.0dev,>=1.22.3 in c:\\users\\mcphersonf\\appdata\\local\\anaconda3\\envs\\gee\\lib\\site-packages (from google-api-core!=2.0.*,!=2.1.*,!=2.2.*,!=2.3.0,<3.0.0.dev0,>=1.31.5->google-api-python-client>=1.12.1->earthengine-api) (1.26.0)\n",
      "Requirement already satisfied: pyasn1<0.7.0,>=0.4.6 in c:\\users\\mcphersonf\\appdata\\local\\anaconda3\\envs\\gee\\lib\\site-packages (from pyasn1-modules>=0.2.1->google-auth>=1.4.1->earthengine-api) (0.6.1)\n"
     ]
    }
   ],
   "source": [
    "pip install earthengine-api"
   ]
  },
  {
   "cell_type": "code",
   "execution_count": 4,
   "id": "08c18006-3635-4c37-bf5a-95ce76455add",
   "metadata": {
    "scrolled": true
   },
   "outputs": [
    {
     "data": {
      "text/html": [
       "\n",
       "            <style>\n",
       "                .geemap-dark {\n",
       "                    --jp-widgets-color: white;\n",
       "                    --jp-widgets-label-color: white;\n",
       "                    --jp-ui-font-color1: white;\n",
       "                    --jp-layout-color2: #454545;\n",
       "                    background-color: #383838;\n",
       "                }\n",
       "\n",
       "                .geemap-dark .jupyter-button {\n",
       "                    --jp-layout-color3: #383838;\n",
       "                }\n",
       "\n",
       "                .geemap-colab {\n",
       "                    background-color: var(--colab-primary-surface-color, white);\n",
       "                }\n",
       "\n",
       "                .geemap-colab .jupyter-button {\n",
       "                    --jp-layout-color3: var(--colab-primary-surface-color, white);\n",
       "                }\n",
       "            </style>\n",
       "            "
      ],
      "text/plain": [
       "<IPython.core.display.HTML object>"
      ]
     },
     "metadata": {},
     "output_type": "display_data"
    }
   ],
   "source": [
    "Map = geemap.Map()\n",
    "Map.setCenter(-123.3445771370641,48.43336760370573, 11)"
   ]
  },
  {
   "cell_type": "code",
   "execution_count": 5,
   "id": "69c7657d-8246-44ad-99fc-e025721e8b4f",
   "metadata": {},
   "outputs": [
    {
     "data": {
      "text/html": [
       "\n",
       "            <style>\n",
       "                .geemap-dark {\n",
       "                    --jp-widgets-color: white;\n",
       "                    --jp-widgets-label-color: white;\n",
       "                    --jp-ui-font-color1: white;\n",
       "                    --jp-layout-color2: #454545;\n",
       "                    background-color: #383838;\n",
       "                }\n",
       "\n",
       "                .geemap-dark .jupyter-button {\n",
       "                    --jp-layout-color3: #383838;\n",
       "                }\n",
       "\n",
       "                .geemap-colab {\n",
       "                    background-color: var(--colab-primary-surface-color, white);\n",
       "                }\n",
       "\n",
       "                .geemap-colab .jupyter-button {\n",
       "                    --jp-layout-color3: var(--colab-primary-surface-color, white);\n",
       "                }\n",
       "            </style>\n",
       "            "
      ],
      "text/plain": [
       "<IPython.core.display.HTML object>"
      ]
     },
     "metadata": {},
     "output_type": "display_data"
    }
   ],
   "source": [
    "### IMPORT HIGH WATER LINE ###\n",
    "\n",
    "# imported from gee asssets\n",
    "\n",
    "vic_coastline = ee.FeatureCollection(\"projects/ee-flickandzed/assets/victoriacoastline\")\n",
    "# Map.addLayer(vic_coastline)\n",
    "\n",
    "Map.setCenter(-123.3445771370641,48.43336760370573, 11)"
   ]
  },
  {
   "cell_type": "code",
   "execution_count": 6,
   "id": "55fa5589-2a91-4e24-b3d3-a37e96577d53",
   "metadata": {},
   "outputs": [
    {
     "data": {
      "text/html": [
       "\n",
       "            <style>\n",
       "                .geemap-dark {\n",
       "                    --jp-widgets-color: white;\n",
       "                    --jp-widgets-label-color: white;\n",
       "                    --jp-ui-font-color1: white;\n",
       "                    --jp-layout-color2: #454545;\n",
       "                    background-color: #383838;\n",
       "                }\n",
       "\n",
       "                .geemap-dark .jupyter-button {\n",
       "                    --jp-layout-color3: #383838;\n",
       "                }\n",
       "\n",
       "                .geemap-colab {\n",
       "                    background-color: var(--colab-primary-surface-color, white);\n",
       "                }\n",
       "\n",
       "                .geemap-colab .jupyter-button {\n",
       "                    --jp-layout-color3: var(--colab-primary-surface-color, white);\n",
       "                }\n",
       "            </style>\n",
       "            "
      ],
      "text/plain": [
       "<IPython.core.display.HTML object>"
      ]
     },
     "metadata": {},
     "output_type": "display_data"
    }
   ],
   "source": [
    "### BUFFER HIGH WATER LINE ###\n",
    "\n",
    "roi = vic_coastline.map(lambda feature: feature.buffer(200))\n",
    "roi = roi.union().geometry()\n",
    "# Map.addLayer(roi)\n",
    "\n",
    "Map.setCenter(-123.3445771370641,48.43336760370573, 11)"
   ]
  },
  {
   "cell_type": "code",
   "execution_count": 7,
   "id": "6b515ec4-b68a-4096-aa0a-395735249647",
   "metadata": {},
   "outputs": [
    {
     "data": {
      "text/html": [
       "\n",
       "            <style>\n",
       "                .geemap-dark {\n",
       "                    --jp-widgets-color: white;\n",
       "                    --jp-widgets-label-color: white;\n",
       "                    --jp-ui-font-color1: white;\n",
       "                    --jp-layout-color2: #454545;\n",
       "                    background-color: #383838;\n",
       "                }\n",
       "\n",
       "                .geemap-dark .jupyter-button {\n",
       "                    --jp-layout-color3: #383838;\n",
       "                }\n",
       "\n",
       "                .geemap-colab {\n",
       "                    background-color: var(--colab-primary-surface-color, white);\n",
       "                }\n",
       "\n",
       "                .geemap-colab .jupyter-button {\n",
       "                    --jp-layout-color3: var(--colab-primary-surface-color, white);\n",
       "                }\n",
       "            </style>\n",
       "            "
      ],
      "text/plain": [
       "<IPython.core.display.HTML object>"
      ]
     },
     "metadata": {},
     "output_type": "display_data"
    },
    {
     "name": "stdout",
     "output_type": "stream",
     "text": [
      "['2024-03-13', '2024-03-14', '2024-03-28', '2024-03-29', '2024-03-30', '2024-04-10', '2024-04-11', '2024-04-12', '2024-04-13', '2024-04-25', '2024-04-26', '2024-04-27', '2024-04-28', '2024-05-10', '2024-05-11', '2024-05-12', '2024-05-25', '2024-05-26', '2024-05-27', '2024-05-28', '2024-06-08', '2024-06-09', '2024-06-10', '2024-06-11', '2024-06-23', '2024-06-24', '2024-06-25', '2024-06-26', '2024-07-07', '2024-07-08', '2024-07-09', '2024-07-10', '2024-07-23', '2024-07-24', '2024-07-25', '2024-08-06', '2024-08-07', '2024-08-21', '2024-08-22']\n"
     ]
    }
   ],
   "source": [
    "### DATE RANGE ###\n",
    "\n",
    "# filtered for dates with low tide (under 1m) at 7:30PM UTM (noon pacific time) in excel\n",
    "\n",
    "df = pd.read_csv('C:/Users/mcphersonf/Documents/work/oakbay2024.csv')\n",
    "\n",
    "# print(df.info())\n",
    "\n",
    "dates_list = df['dates_under_1m'].dropna().tolist()\n",
    "dates_list = [date for date in dates_list if any(time in date for time in ['T18', 'T19', 'T20'])]\n",
    "# print(dates_list)\n",
    "\n",
    "cleaned_dates = [date.split('T')[0] for date in dates_list]\n",
    "print(cleaned_dates)"
   ]
  },
  {
   "cell_type": "code",
   "execution_count": 8,
   "id": "a6987605-a36c-4872-b221-86f226ea2615",
   "metadata": {},
   "outputs": [
    {
     "data": {
      "text/html": [
       "\n",
       "            <style>\n",
       "                .geemap-dark {\n",
       "                    --jp-widgets-color: white;\n",
       "                    --jp-widgets-label-color: white;\n",
       "                    --jp-ui-font-color1: white;\n",
       "                    --jp-layout-color2: #454545;\n",
       "                    background-color: #383838;\n",
       "                }\n",
       "\n",
       "                .geemap-dark .jupyter-button {\n",
       "                    --jp-layout-color3: #383838;\n",
       "                }\n",
       "\n",
       "                .geemap-colab {\n",
       "                    background-color: var(--colab-primary-surface-color, white);\n",
       "                }\n",
       "\n",
       "                .geemap-colab .jupyter-button {\n",
       "                    --jp-layout-color3: var(--colab-primary-surface-color, white);\n",
       "                }\n",
       "            </style>\n",
       "            "
      ],
      "text/plain": [
       "<IPython.core.display.HTML object>"
      ]
     },
     "metadata": {},
     "output_type": "display_data"
    }
   ],
   "source": [
    "### DATE FILTER ###\n",
    "\n",
    "date_filter = ee.Filter.date(cleaned_dates[0])\n",
    "dates_added = [cleaned_dates[0]]\n",
    "\n",
    "for date in cleaned_dates:\n",
    "    if date not in dates_added:\n",
    "        date_obj = datetime.strptime(date, \"%Y-%m-%d\")\n",
    "        next_day = date_obj + timedelta(days=1)\n",
    "        next_day_str = next_day.strftime(\"%Y-%m-%d\")\n",
    "        dates_added.append(next_day_str)\n",
    "\n",
    "        while next_day_str in cleaned_dates:\n",
    "            next_day = next_day + timedelta(days=1)\n",
    "            next_day_str = next_day.strftime(\"%Y-%m-%d\")\n",
    "            dates_added.append(next_day_str)\n",
    "        \n",
    "        date_filter = ee.Filter.Or(\n",
    "            ee.Filter.date(date, next_day_str), \n",
    "            date_filter\n",
    "        )\n",
    "\n",
    "# find number of images in that date range\n",
    "\n",
    "# image_collection = ee.ImageCollection(\"COPERNICUS/S2_SR_HARMONIZED\").filterBounds(roi).filter(date_filter)\n",
    "# image_count = image_collection.size().getInfo()\n",
    "# print(f\"Number of images in the filtered collection: {image_count}\")\n",
    "# print(image_collection.aggregate([ee.Reducer.toList(1), ee.List([ee.String('CLOUD_COVER_ASSESSMENT')])]))\n"
   ]
  },
  {
   "cell_type": "code",
   "execution_count": 9,
   "id": "627d2861-14bd-4801-a480-6b18a661b88e",
   "metadata": {},
   "outputs": [
    {
     "data": {
      "text/html": [
       "\n",
       "            <style>\n",
       "                .geemap-dark {\n",
       "                    --jp-widgets-color: white;\n",
       "                    --jp-widgets-label-color: white;\n",
       "                    --jp-ui-font-color1: white;\n",
       "                    --jp-layout-color2: #454545;\n",
       "                    background-color: #383838;\n",
       "                }\n",
       "\n",
       "                .geemap-dark .jupyter-button {\n",
       "                    --jp-layout-color3: #383838;\n",
       "                }\n",
       "\n",
       "                .geemap-colab {\n",
       "                    background-color: var(--colab-primary-surface-color, white);\n",
       "                }\n",
       "\n",
       "                .geemap-colab .jupyter-button {\n",
       "                    --jp-layout-color3: var(--colab-primary-surface-color, white);\n",
       "                }\n",
       "            </style>\n",
       "            "
      ],
      "text/plain": [
       "<IPython.core.display.HTML object>"
      ]
     },
     "metadata": {},
     "output_type": "display_data"
    },
    {
     "data": {
      "application/vnd.jupyter.widget-view+json": {
       "model_id": "6b1a2276ab1844c8845f330dbdf6a362",
       "version_major": 2,
       "version_minor": 0
      },
      "text/plain": [
       "Map(center=[48.43336760370573, -123.3445771370641], controls=(WidgetControl(options=['position', 'transparent_…"
      ]
     },
     "execution_count": 9,
     "metadata": {},
     "output_type": "execute_result"
    }
   ],
   "source": [
    "### CHOOSE IMAGE ###\n",
    "\n",
    "S2_image = ee.ImageCollection(\"COPERNICUS/S2_SR_HARMONIZED\").filterBounds(roi).filter(date_filter).sort(\"CLOUD_COVERAGE_ASSESSMENT\").first()\n",
    "trueColour = {'bands': [\"B4\", \"B3\", \"B2\"],'min': 0,'max': 2000}\n",
    "Map.addLayer(S2_image.clip(roi), trueColour, 'S2 image')\n",
    "\n",
    "Map.setCenter(-123.3445771370641,48.43336760370573, 11)\n",
    "Map"
   ]
  },
  {
   "cell_type": "code",
   "execution_count": 10,
   "id": "61ba6b10-4ded-4fe3-8c08-577f3c3fd0f1",
   "metadata": {},
   "outputs": [
    {
     "data": {
      "text/html": [
       "\n",
       "            <style>\n",
       "                .geemap-dark {\n",
       "                    --jp-widgets-color: white;\n",
       "                    --jp-widgets-label-color: white;\n",
       "                    --jp-ui-font-color1: white;\n",
       "                    --jp-layout-color2: #454545;\n",
       "                    background-color: #383838;\n",
       "                }\n",
       "\n",
       "                .geemap-dark .jupyter-button {\n",
       "                    --jp-layout-color3: #383838;\n",
       "                }\n",
       "\n",
       "                .geemap-colab {\n",
       "                    background-color: var(--colab-primary-surface-color, white);\n",
       "                }\n",
       "\n",
       "                .geemap-colab .jupyter-button {\n",
       "                    --jp-layout-color3: var(--colab-primary-surface-color, white);\n",
       "                }\n",
       "            </style>\n",
       "            "
      ],
      "text/plain": [
       "<IPython.core.display.HTML object>"
      ]
     },
     "metadata": {},
     "output_type": "display_data"
    },
    {
     "name": "stdout",
     "output_type": "stream",
     "text": [
      "2024-07-23\n"
     ]
    }
   ],
   "source": [
    "### Date the chosen image was taken ###\n",
    "\n",
    "timestamp = S2_image.get('system:time_start')\n",
    "date = ee.Date(timestamp).format(\"yyyy-MM-dd\")\n",
    "print(date.getInfo())"
   ]
  },
  {
   "cell_type": "code",
   "execution_count": 11,
   "id": "758cd235-4d1f-49fa-b96c-644c1bb2a016",
   "metadata": {},
   "outputs": [
    {
     "data": {
      "text/html": [
       "\n",
       "            <style>\n",
       "                .geemap-dark {\n",
       "                    --jp-widgets-color: white;\n",
       "                    --jp-widgets-label-color: white;\n",
       "                    --jp-ui-font-color1: white;\n",
       "                    --jp-layout-color2: #454545;\n",
       "                    background-color: #383838;\n",
       "                }\n",
       "\n",
       "                .geemap-dark .jupyter-button {\n",
       "                    --jp-layout-color3: #383838;\n",
       "                }\n",
       "\n",
       "                .geemap-colab {\n",
       "                    background-color: var(--colab-primary-surface-color, white);\n",
       "                }\n",
       "\n",
       "                .geemap-colab .jupyter-button {\n",
       "                    --jp-layout-color3: var(--colab-primary-surface-color, white);\n",
       "                }\n",
       "            </style>\n",
       "            "
      ],
      "text/plain": [
       "<IPython.core.display.HTML object>"
      ]
     },
     "metadata": {},
     "output_type": "display_data"
    }
   ],
   "source": [
    "### MANUAL TRAINING CLASSIFICATION ###\n",
    "\n",
    "vegetation = ee.FeatureCollection(\"projects/ee-flickandzed/assets/vicvegetation\")\n",
    "water = ee.FeatureCollection(\"projects/ee-flickandzed/assets/vicwater\")\n",
    "infrastructure = ee.FeatureCollection(\"projects/ee-flickandzed/assets/vicinfrastructure\")\n",
    "bareground = ee.FeatureCollection(\"projects/ee-flickandzed/assets/vicbareground\")\n",
    "\n",
    "sub_S2 = S2_image.clip(roi)\n",
    "\n",
    "newfc = water.merge(infrastructure).merge(vegetation).merge(bareground)\n",
    "bands = ['B2', 'B3', 'B4', 'B8', 'B8A', 'B11', 'B12']\n",
    "\n",
    "training = sub_S2.select(bands).sampleRegions(newfc, ['landcover'], 10)\n",
    "\n",
    "classifier = ee.Classifier.smileRandomForest(150).train(training, 'landcover', bands)\n",
    "\n",
    "classified = sub_S2.select(bands).classify(classifier)\n",
    "\n",
    "dict = {\"names\": [\"vegetation\", \"water\", \"infrastructure\", \"bareground\"], \"colours\": [\"#29d62c\", \"#5d52ff\", \"#d6d6d6\", \"#e6d53a\"]}\n",
    "Map.addLayer(classified, {'min': 0, 'max': 3, 'palette': dict['colours']}, \"manual classification\")\n",
    "\n",
    "Map.setCenter(-123.3445771370641,48.43336760370573, 11)"
   ]
  },
  {
   "cell_type": "code",
   "execution_count": 12,
   "id": "ca4dfb32-095b-472b-93d4-f4bc96b34538",
   "metadata": {},
   "outputs": [
    {
     "data": {
      "text/html": [
       "\n",
       "            <style>\n",
       "                .geemap-dark {\n",
       "                    --jp-widgets-color: white;\n",
       "                    --jp-widgets-label-color: white;\n",
       "                    --jp-ui-font-color1: white;\n",
       "                    --jp-layout-color2: #454545;\n",
       "                    background-color: #383838;\n",
       "                }\n",
       "\n",
       "                .geemap-dark .jupyter-button {\n",
       "                    --jp-layout-color3: #383838;\n",
       "                }\n",
       "\n",
       "                .geemap-colab {\n",
       "                    background-color: var(--colab-primary-surface-color, white);\n",
       "                }\n",
       "\n",
       "                .geemap-colab .jupyter-button {\n",
       "                    --jp-layout-color3: var(--colab-primary-surface-color, white);\n",
       "                }\n",
       "            </style>\n",
       "            "
      ],
      "text/plain": [
       "<IPython.core.display.HTML object>"
      ]
     },
     "metadata": {},
     "output_type": "display_data"
    }
   ],
   "source": [
    "### OTHER LANDCOVER DATASETS FROM GEE ###\n",
    "\n",
    "nlcd = ee.Image(\"USGS/NLCD/NLCD2016\").select(\"landcover\").clip(S2_image.geometry())\n",
    "dw = ee.ImageCollection('GOOGLE/DYNAMICWORLD/V1').filterDate('2024-01-01', '2024-12-31')\n",
    "nlcd30m = ee.Image('USGS/NLCD_RELEASES/2020_REL/NALCMS').select(\"landcover\").clip(S2_image.geometry())\n",
    "Map.addLayer(nlcd, {}, \"NLCD\")\n",
    "Map.addLayer(dw, {}, \"DW\")\n",
    "Map.addLayer(nlcd30m, {}, \"NLCD30M\")\n",
    "\n",
    "Map.setCenter(-123.3445771370641,48.43336760370573, 11)\n",
    "# Map"
   ]
  },
  {
   "cell_type": "code",
   "execution_count": 13,
   "id": "dc09e44b-8406-4353-bd36-4554561b926e",
   "metadata": {},
   "outputs": [
    {
     "data": {
      "text/html": [
       "\n",
       "            <style>\n",
       "                .geemap-dark {\n",
       "                    --jp-widgets-color: white;\n",
       "                    --jp-widgets-label-color: white;\n",
       "                    --jp-ui-font-color1: white;\n",
       "                    --jp-layout-color2: #454545;\n",
       "                    background-color: #383838;\n",
       "                }\n",
       "\n",
       "                .geemap-dark .jupyter-button {\n",
       "                    --jp-layout-color3: #383838;\n",
       "                }\n",
       "\n",
       "                .geemap-colab {\n",
       "                    background-color: var(--colab-primary-surface-color, white);\n",
       "                }\n",
       "\n",
       "                .geemap-colab .jupyter-button {\n",
       "                    --jp-layout-color3: var(--colab-primary-surface-color, white);\n",
       "                }\n",
       "            </style>\n",
       "            "
      ],
      "text/plain": [
       "<IPython.core.display.HTML object>"
      ]
     },
     "metadata": {},
     "output_type": "display_data"
    }
   ],
   "source": [
    "### SPECTRAL INDICES ###\n",
    "\n",
    "def add_indices(image):\n",
    "    ndvi = image.normalizedDifference(['B8', 'B4']).rename('ndvi')\n",
    "    ndbi = image.normalizedDifference(['B11', 'B8']).rename('ndbi')\n",
    "    mndwi = image.normalizedDifference(['B3', 'B11']).rename('mndwi')\n",
    "    bsi = image.expression(\n",
    "        '((X + Y) - (A + B)) / ((X + Y) + (A + B))', {\n",
    "            'X': image.select('B11'),  # swir1\n",
    "            'Y': image.select('B4'),   # red\n",
    "            'A': image.select('B8'),   # nir\n",
    "            'B': image.select('B2')    # blue\n",
    "        }).rename('bsi')\n",
    "    return image.addBands([ndvi, ndbi, mndwi, bsi])\n",
    "\n",
    "image_with_indices = add_indices(S2_image)\n",
    "\n",
    "Map.addLayer(image_with_indices.clip(roi), trueColour, 'Image With Indices')\n",
    "\n",
    "Map.setCenter(-123.3445771370641,48.43336760370573, 11)"
   ]
  },
  {
   "cell_type": "code",
   "execution_count": 14,
   "id": "274a60a8-3a16-4492-9839-8172cd6308a6",
   "metadata": {},
   "outputs": [
    {
     "data": {
      "text/html": [
       "\n",
       "            <style>\n",
       "                .geemap-dark {\n",
       "                    --jp-widgets-color: white;\n",
       "                    --jp-widgets-label-color: white;\n",
       "                    --jp-ui-font-color1: white;\n",
       "                    --jp-layout-color2: #454545;\n",
       "                    background-color: #383838;\n",
       "                }\n",
       "\n",
       "                .geemap-dark .jupyter-button {\n",
       "                    --jp-layout-color3: #383838;\n",
       "                }\n",
       "\n",
       "                .geemap-colab {\n",
       "                    background-color: var(--colab-primary-surface-color, white);\n",
       "                }\n",
       "\n",
       "                .geemap-colab .jupyter-button {\n",
       "                    --jp-layout-color3: var(--colab-primary-surface-color, white);\n",
       "                }\n",
       "            </style>\n",
       "            "
      ],
      "text/plain": [
       "<IPython.core.display.HTML object>"
      ]
     },
     "metadata": {},
     "output_type": "display_data"
    }
   ],
   "source": [
    "### CEC’s North American Land Change Monitoring System (NALCMS) ###\n",
    "\n",
    "# find the colour palette and order of classes\n",
    "\n",
    "lc = ee.Image(\"projects/ee-flickandzed/assets/landcover-2020-classification\")\n",
    "dict = {\"names\": [\"a\", \"b\", \"c\", \"d\", \"e\", \"f\", \"g\", \"h\", \"i\", \"j\", \"k\", \"l\", \"m\", \"n\"], \"colours\": [\"#d60000\", \"#d6a300\", \"#6ad600\", \"#42d600\", \"#00d653\", \"#00d6c0\", \"#00bad6\", \"#001bd6\", \"#d400d6\", \"#7100d6\", \"#d6009c\", \"#d67760\", \"#55d651\", \"#7f6fd6\", \"#d68eb2\"]}\n",
    "Map.addLayer(lc, {'min': 0, 'max': 14, 'palette': dict['colours']}, \"NALCMS classification\")"
   ]
  },
  {
   "cell_type": "code",
   "execution_count": 15,
   "id": "ae652f9e-183a-49f7-93c1-ecf10dd29e94",
   "metadata": {},
   "outputs": [
    {
     "data": {
      "text/html": [
       "\n",
       "            <style>\n",
       "                .geemap-dark {\n",
       "                    --jp-widgets-color: white;\n",
       "                    --jp-widgets-label-color: white;\n",
       "                    --jp-ui-font-color1: white;\n",
       "                    --jp-layout-color2: #454545;\n",
       "                    background-color: #383838;\n",
       "                }\n",
       "\n",
       "                .geemap-dark .jupyter-button {\n",
       "                    --jp-layout-color3: #383838;\n",
       "                }\n",
       "\n",
       "                .geemap-colab {\n",
       "                    background-color: var(--colab-primary-surface-color, white);\n",
       "                }\n",
       "\n",
       "                .geemap-colab .jupyter-button {\n",
       "                    --jp-layout-color3: var(--colab-primary-surface-color, white);\n",
       "                }\n",
       "            </style>\n",
       "            "
      ],
      "text/plain": [
       "<IPython.core.display.HTML object>"
      ]
     },
     "metadata": {},
     "output_type": "display_data"
    }
   ],
   "source": [
    "### CLASSIFICATION USING DYNAMIC WORLD BANDS ###"
   ]
  },
  {
   "cell_type": "code",
   "execution_count": 16,
   "id": "8547ca24-5a0a-44b2-b3e1-6174b15ffb53",
   "metadata": {},
   "outputs": [
    {
     "data": {
      "text/html": [
       "\n",
       "            <style>\n",
       "                .geemap-dark {\n",
       "                    --jp-widgets-color: white;\n",
       "                    --jp-widgets-label-color: white;\n",
       "                    --jp-ui-font-color1: white;\n",
       "                    --jp-layout-color2: #454545;\n",
       "                    background-color: #383838;\n",
       "                }\n",
       "\n",
       "                .geemap-dark .jupyter-button {\n",
       "                    --jp-layout-color3: #383838;\n",
       "                }\n",
       "\n",
       "                .geemap-colab {\n",
       "                    background-color: var(--colab-primary-surface-color, white);\n",
       "                }\n",
       "\n",
       "                .geemap-colab .jupyter-button {\n",
       "                    --jp-layout-color3: var(--colab-primary-surface-color, white);\n",
       "                }\n",
       "            </style>\n",
       "            "
      ],
      "text/plain": [
       "<IPython.core.display.HTML object>"
      ]
     },
     "metadata": {},
     "output_type": "display_data"
    }
   ],
   "source": [
    "### CLASSIFICAION USING ADDITIONAL SPECTRAL INDICES ###"
   ]
  }
 ],
 "metadata": {
  "kernelspec": {
   "display_name": "Python 3 (ipykernel)",
   "language": "python",
   "name": "python3"
  },
  "language_info": {
   "codemirror_mode": {
    "name": "ipython",
    "version": 3
   },
   "file_extension": ".py",
   "mimetype": "text/x-python",
   "name": "python",
   "nbconvert_exporter": "python",
   "pygments_lexer": "ipython3",
   "version": "3.12.8"
  }
 },
 "nbformat": 4,
 "nbformat_minor": 5
}
